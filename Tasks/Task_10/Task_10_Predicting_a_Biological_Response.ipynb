{
  "cells": [
    {
      "cell_type": "markdown",
      "metadata": {
        "id": "aYyiSBrLU3_O"
      },
      "source": [
        "# 0. Введение"
      ]
    },
    {
      "cell_type": "markdown",
      "metadata": {},
      "source": [
        "Цель практики - тренировка подбора гиперпараметров моделей МО:\n",
        "* Обучить две модели: логистическую регрессию и случайный лес;  \n",
        "* Выполнить подбор гиперпараметров с помощью базовых (`GridSeachCV, RandomizedSearchCV`) и продвинутых (`Hyperopt, Optuna`) методов оптимизации так, чтобы улучшать итоговую метрику;   \n",
        "* Провести сравнение и понять преимущества и недостатки каждого из методов."
      ]
    },
    {
      "cell_type": "code",
      "execution_count": null,
      "metadata": {
        "id": "mqK5u2bBT46P"
      },
      "outputs": [],
      "source": [
        "#импорт библиотек\n",
        "import numpy as np #для матричных вычислений\n",
        "import pandas as pd #для анализа и предобработки данных\n",
        "import matplotlib.pyplot as plt #для визуализации\n",
        "import seaborn as sns #для визуализации\n",
        "\n",
        "from sklearn import linear_model #линейные модели\n",
        "from sklearn import tree #деревья решений\n",
        "from sklearn import ensemble #ансамбли\n",
        "from sklearn import metrics #метрики\n",
        "from sklearn import preprocessing #предобработка\n",
        "from sklearn.model_selection import train_test_split #сплитование выборки\n",
        "\n",
        "%matplotlib inline\n",
        "plt.style.use('seaborn')"
      ]
    },
    {
      "cell_type": "code",
      "execution_count": null,
      "metadata": {
        "colab": {
          "base_uri": "https://localhost:8080/",
          "height": 317
        },
        "id": "HZSz6oiyUXR7",
        "outputId": "74dc1bf2-3c46-4a39-d5d8-243ce49ff38d"
      },
      "outputs": [
        {
          "name": "stdout",
          "output_type": "stream",
          "text": [
            "Mounted at /content/drive\n"
          ]
        },
        {
          "data": {
            "text/html": [
              "\n",
              "  <div id=\"df-0ba01a4c-6375-4eb2-b8ef-91b36ccbd647\">\n",
              "    <div class=\"colab-df-container\">\n",
              "      <div>\n",
              "<style scoped>\n",
              "    .dataframe tbody tr th:only-of-type {\n",
              "        vertical-align: middle;\n",
              "    }\n",
              "\n",
              "    .dataframe tbody tr th {\n",
              "        vertical-align: top;\n",
              "    }\n",
              "\n",
              "    .dataframe thead th {\n",
              "        text-align: right;\n",
              "    }\n",
              "</style>\n",
              "<table border=\"1\" class=\"dataframe\">\n",
              "  <thead>\n",
              "    <tr style=\"text-align: right;\">\n",
              "      <th></th>\n",
              "      <th>Activity</th>\n",
              "      <th>D1</th>\n",
              "      <th>D2</th>\n",
              "      <th>D3</th>\n",
              "      <th>D4</th>\n",
              "      <th>D5</th>\n",
              "      <th>D6</th>\n",
              "      <th>D7</th>\n",
              "      <th>D8</th>\n",
              "      <th>D9</th>\n",
              "      <th>...</th>\n",
              "      <th>D1767</th>\n",
              "      <th>D1768</th>\n",
              "      <th>D1769</th>\n",
              "      <th>D1770</th>\n",
              "      <th>D1771</th>\n",
              "      <th>D1772</th>\n",
              "      <th>D1773</th>\n",
              "      <th>D1774</th>\n",
              "      <th>D1775</th>\n",
              "      <th>D1776</th>\n",
              "    </tr>\n",
              "  </thead>\n",
              "  <tbody>\n",
              "    <tr>\n",
              "      <th>0</th>\n",
              "      <td>1</td>\n",
              "      <td>0.000000</td>\n",
              "      <td>0.497009</td>\n",
              "      <td>0.10</td>\n",
              "      <td>0.0</td>\n",
              "      <td>0.132956</td>\n",
              "      <td>0.678031</td>\n",
              "      <td>0.273166</td>\n",
              "      <td>0.585445</td>\n",
              "      <td>0.743663</td>\n",
              "      <td>...</td>\n",
              "      <td>0</td>\n",
              "      <td>0</td>\n",
              "      <td>0</td>\n",
              "      <td>0</td>\n",
              "      <td>0</td>\n",
              "      <td>0</td>\n",
              "      <td>0</td>\n",
              "      <td>0</td>\n",
              "      <td>0</td>\n",
              "      <td>0</td>\n",
              "    </tr>\n",
              "    <tr>\n",
              "      <th>1</th>\n",
              "      <td>1</td>\n",
              "      <td>0.366667</td>\n",
              "      <td>0.606291</td>\n",
              "      <td>0.05</td>\n",
              "      <td>0.0</td>\n",
              "      <td>0.111209</td>\n",
              "      <td>0.803455</td>\n",
              "      <td>0.106105</td>\n",
              "      <td>0.411754</td>\n",
              "      <td>0.836582</td>\n",
              "      <td>...</td>\n",
              "      <td>1</td>\n",
              "      <td>1</td>\n",
              "      <td>1</td>\n",
              "      <td>1</td>\n",
              "      <td>0</td>\n",
              "      <td>1</td>\n",
              "      <td>0</td>\n",
              "      <td>0</td>\n",
              "      <td>1</td>\n",
              "      <td>0</td>\n",
              "    </tr>\n",
              "    <tr>\n",
              "      <th>2</th>\n",
              "      <td>1</td>\n",
              "      <td>0.033300</td>\n",
              "      <td>0.480124</td>\n",
              "      <td>0.00</td>\n",
              "      <td>0.0</td>\n",
              "      <td>0.209791</td>\n",
              "      <td>0.610350</td>\n",
              "      <td>0.356453</td>\n",
              "      <td>0.517720</td>\n",
              "      <td>0.679051</td>\n",
              "      <td>...</td>\n",
              "      <td>0</td>\n",
              "      <td>0</td>\n",
              "      <td>0</td>\n",
              "      <td>0</td>\n",
              "      <td>0</td>\n",
              "      <td>0</td>\n",
              "      <td>0</td>\n",
              "      <td>0</td>\n",
              "      <td>0</td>\n",
              "      <td>0</td>\n",
              "    </tr>\n",
              "    <tr>\n",
              "      <th>3</th>\n",
              "      <td>1</td>\n",
              "      <td>0.000000</td>\n",
              "      <td>0.538825</td>\n",
              "      <td>0.00</td>\n",
              "      <td>0.5</td>\n",
              "      <td>0.196344</td>\n",
              "      <td>0.724230</td>\n",
              "      <td>0.235606</td>\n",
              "      <td>0.288764</td>\n",
              "      <td>0.805110</td>\n",
              "      <td>...</td>\n",
              "      <td>0</td>\n",
              "      <td>0</td>\n",
              "      <td>0</td>\n",
              "      <td>0</td>\n",
              "      <td>0</td>\n",
              "      <td>0</td>\n",
              "      <td>0</td>\n",
              "      <td>0</td>\n",
              "      <td>0</td>\n",
              "      <td>0</td>\n",
              "    </tr>\n",
              "    <tr>\n",
              "      <th>4</th>\n",
              "      <td>0</td>\n",
              "      <td>0.100000</td>\n",
              "      <td>0.517794</td>\n",
              "      <td>0.00</td>\n",
              "      <td>0.0</td>\n",
              "      <td>0.494734</td>\n",
              "      <td>0.781422</td>\n",
              "      <td>0.154361</td>\n",
              "      <td>0.303809</td>\n",
              "      <td>0.812646</td>\n",
              "      <td>...</td>\n",
              "      <td>0</td>\n",
              "      <td>0</td>\n",
              "      <td>0</td>\n",
              "      <td>0</td>\n",
              "      <td>0</td>\n",
              "      <td>0</td>\n",
              "      <td>0</td>\n",
              "      <td>0</td>\n",
              "      <td>0</td>\n",
              "      <td>0</td>\n",
              "    </tr>\n",
              "  </tbody>\n",
              "</table>\n",
              "<p>5 rows × 1777 columns</p>\n",
              "</div>\n",
              "      <button class=\"colab-df-convert\" onclick=\"convertToInteractive('df-0ba01a4c-6375-4eb2-b8ef-91b36ccbd647')\"\n",
              "              title=\"Convert this dataframe to an interactive table.\"\n",
              "              style=\"display:none;\">\n",
              "        \n",
              "  <svg xmlns=\"http://www.w3.org/2000/svg\" height=\"24px\"viewBox=\"0 0 24 24\"\n",
              "       width=\"24px\">\n",
              "    <path d=\"M0 0h24v24H0V0z\" fill=\"none\"/>\n",
              "    <path d=\"M18.56 5.44l.94 2.06.94-2.06 2.06-.94-2.06-.94-.94-2.06-.94 2.06-2.06.94zm-11 1L8.5 8.5l.94-2.06 2.06-.94-2.06-.94L8.5 2.5l-.94 2.06-2.06.94zm10 10l.94 2.06.94-2.06 2.06-.94-2.06-.94-.94-2.06-.94 2.06-2.06.94z\"/><path d=\"M17.41 7.96l-1.37-1.37c-.4-.4-.92-.59-1.43-.59-.52 0-1.04.2-1.43.59L10.3 9.45l-7.72 7.72c-.78.78-.78 2.05 0 2.83L4 21.41c.39.39.9.59 1.41.59.51 0 1.02-.2 1.41-.59l7.78-7.78 2.81-2.81c.8-.78.8-2.07 0-2.86zM5.41 20L4 18.59l7.72-7.72 1.47 1.35L5.41 20z\"/>\n",
              "  </svg>\n",
              "      </button>\n",
              "      \n",
              "  <style>\n",
              "    .colab-df-container {\n",
              "      display:flex;\n",
              "      flex-wrap:wrap;\n",
              "      gap: 12px;\n",
              "    }\n",
              "\n",
              "    .colab-df-convert {\n",
              "      background-color: #E8F0FE;\n",
              "      border: none;\n",
              "      border-radius: 50%;\n",
              "      cursor: pointer;\n",
              "      display: none;\n",
              "      fill: #1967D2;\n",
              "      height: 32px;\n",
              "      padding: 0 0 0 0;\n",
              "      width: 32px;\n",
              "    }\n",
              "\n",
              "    .colab-df-convert:hover {\n",
              "      background-color: #E2EBFA;\n",
              "      box-shadow: 0px 1px 2px rgba(60, 64, 67, 0.3), 0px 1px 3px 1px rgba(60, 64, 67, 0.15);\n",
              "      fill: #174EA6;\n",
              "    }\n",
              "\n",
              "    [theme=dark] .colab-df-convert {\n",
              "      background-color: #3B4455;\n",
              "      fill: #D2E3FC;\n",
              "    }\n",
              "\n",
              "    [theme=dark] .colab-df-convert:hover {\n",
              "      background-color: #434B5C;\n",
              "      box-shadow: 0px 1px 3px 1px rgba(0, 0, 0, 0.15);\n",
              "      filter: drop-shadow(0px 1px 2px rgba(0, 0, 0, 0.3));\n",
              "      fill: #FFFFFF;\n",
              "    }\n",
              "  </style>\n",
              "\n",
              "      <script>\n",
              "        const buttonEl =\n",
              "          document.querySelector('#df-0ba01a4c-6375-4eb2-b8ef-91b36ccbd647 button.colab-df-convert');\n",
              "        buttonEl.style.display =\n",
              "          google.colab.kernel.accessAllowed ? 'block' : 'none';\n",
              "\n",
              "        async function convertToInteractive(key) {\n",
              "          const element = document.querySelector('#df-0ba01a4c-6375-4eb2-b8ef-91b36ccbd647');\n",
              "          const dataTable =\n",
              "            await google.colab.kernel.invokeFunction('convertToInteractive',\n",
              "                                                     [key], {});\n",
              "          if (!dataTable) return;\n",
              "\n",
              "          const docLinkHtml = 'Like what you see? Visit the ' +\n",
              "            '<a target=\"_blank\" href=https://colab.research.google.com/notebooks/data_table.ipynb>data table notebook</a>'\n",
              "            + ' to learn more about interactive tables.';\n",
              "          element.innerHTML = '';\n",
              "          dataTable['output_type'] = 'display_data';\n",
              "          await google.colab.output.renderOutput(dataTable, element);\n",
              "          const docLink = document.createElement('div');\n",
              "          docLink.innerHTML = docLinkHtml;\n",
              "          element.appendChild(docLink);\n",
              "        }\n",
              "      </script>\n",
              "    </div>\n",
              "  </div>\n",
              "  "
            ],
            "text/plain": [
              "   Activity        D1        D2    D3   D4        D5        D6        D7  \\\n",
              "0         1  0.000000  0.497009  0.10  0.0  0.132956  0.678031  0.273166   \n",
              "1         1  0.366667  0.606291  0.05  0.0  0.111209  0.803455  0.106105   \n",
              "2         1  0.033300  0.480124  0.00  0.0  0.209791  0.610350  0.356453   \n",
              "3         1  0.000000  0.538825  0.00  0.5  0.196344  0.724230  0.235606   \n",
              "4         0  0.100000  0.517794  0.00  0.0  0.494734  0.781422  0.154361   \n",
              "\n",
              "         D8        D9  ...  D1767  D1768  D1769  D1770  D1771  D1772  D1773  \\\n",
              "0  0.585445  0.743663  ...      0      0      0      0      0      0      0   \n",
              "1  0.411754  0.836582  ...      1      1      1      1      0      1      0   \n",
              "2  0.517720  0.679051  ...      0      0      0      0      0      0      0   \n",
              "3  0.288764  0.805110  ...      0      0      0      0      0      0      0   \n",
              "4  0.303809  0.812646  ...      0      0      0      0      0      0      0   \n",
              "\n",
              "   D1774  D1775  D1776  \n",
              "0      0      0      0  \n",
              "1      0      1      0  \n",
              "2      0      0      0  \n",
              "3      0      0      0  \n",
              "4      0      0      0  \n",
              "\n",
              "[5 rows x 1777 columns]"
            ]
          },
          "execution_count": 2,
          "metadata": {},
          "output_type": "execute_result"
        }
      ],
      "source": [
        "# подключаем google диск, где у нас хранятся данные\n",
        "from google.colab import drive\n",
        "drive.mount('/content/drive')\n",
        "# берем необходимый нам файл с диска, указав путь\n",
        "data = pd.read_csv('./_train_sem09 (1).csv')\n",
        "data.head()"
      ]
    },
    {
      "cell_type": "code",
      "execution_count": null,
      "metadata": {
        "colab": {
          "base_uri": "https://localhost:8080/",
          "height": 361
        },
        "id": "iaMHeeGKWU-s",
        "outputId": "7f9b96e3-39db-4ce8-e58f-47aaad85f3af"
      },
      "outputs": [
        {
          "data": {
            "image/png": "[encoded data removed]",
            "text/plain": [
              "<Figure size 576x396 with 1 Axes>"
            ]
          },
          "metadata": {},
          "output_type": "display_data"
        }
      ],
      "source": [
        "# Посмотрим на сбалансированность классов:\n",
        "sns.countplot(data=data, x='Activity');"
      ]
    },
    {
      "cell_type": "markdown",
      "metadata": {
        "id": "nndS265eWvuv"
      },
      "source": [
        "Довольно сбалансированные классы"
      ]
    },
    {
      "cell_type": "code",
      "execution_count": null,
      "metadata": {
        "id": "t6YZyEO9nkwy"
      },
      "outputs": [],
      "source": [
        "# Создадим матрицу наблюдений X и столбец с ответами y\n",
        "X = data.drop(['Activity'], axis=1)\n",
        "y = data['Activity']"
      ]
    },
    {
      "cell_type": "code",
      "execution_count": null,
      "metadata": {
        "id": "PVIWWTton0v2"
      },
      "outputs": [],
      "source": [
        "# Разделим данные на обучающую и тестовую части\n",
        "X_train, X_test, y_train, y_test = train_test_split(X, y, stratify=y, random_state = 1, test_size = 0.2)"
      ]
    },
    {
      "cell_type": "markdown",
      "metadata": {
        "id": "clibb78qoGJS"
      },
      "source": [
        "# 1. Обучаем две модели: логистическую регрессию и случайный лес"
      ]
    },
    {
      "cell_type": "markdown",
      "metadata": {
        "id": "99p-zv1SZWzz"
      },
      "source": [
        "## 1.1. Создаем объект класса **логистическая регрессия** (**LR**)"
      ]
    },
    {
      "cell_type": "code",
      "execution_count": null,
      "metadata": {
        "colab": {
          "base_uri": "https://localhost:8080/"
        },
        "id": "_jV0Bkb0n3Qg",
        "outputId": "8ed741d7-1bc2-48f0-cd0e-ca36fe394bb8"
      },
      "outputs": [
        {
          "name": "stdout",
          "output_type": "stream",
          "text": [
            "f1_score на обучающем наборе: 0.87\n",
            "f1_score на тестовом наборе: 0.79\n"
          ]
        },
        {
          "name": "stderr",
          "output_type": "stream",
          "text": [
            "/usr/local/lib/python3.9/dist-packages/sklearn/linear_model/_logistic.py:458: ConvergenceWarning: lbfgs failed to converge (status=1):\n",
            "STOP: TOTAL NO. of ITERATIONS REACHED LIMIT.\n",
            "\n",
            "Increase the number of iterations (max_iter) or scale the data as shown in:\n",
            "    https://scikit-learn.org/stable/modules/preprocessing.html\n",
            "Please also refer to the documentation for alternative solver options:\n",
            "    https://scikit-learn.org/stable/modules/linear_model.html#logistic-regression\n",
            "  n_iter_i = _check_optimize_result(\n"
          ]
        }
      ],
      "source": [
        "# Создаем объект класса логистическая регрессия\n",
        "lr = linear_model.LogisticRegression(max_iter = 50)\n",
        "# Обучаем модель\n",
        "lr.fit(X_train, y_train)\n",
        "\n",
        "# Выводим значения метрики:\n",
        "#для тренировочных данных\n",
        "y_train_pred_lr = lr.predict(X_train)\n",
        "print('f1_score на обучающем наборе: {:.2f}'.format(metrics.f1_score(y_train, y_train_pred_lr))) \n",
        "#для тестовых данных\n",
        "y_test_pred_lr = lr.predict(X_test)\n",
        "print('f1_score на тестовом наборе: {:.2f}'.format(metrics.f1_score(y_test, y_test_pred_lr)))"
      ]
    },
    {
      "cell_type": "markdown",
      "metadata": {
        "id": "TIQF4Xx7seN1"
      },
      "source": [
        "Без дополнительной настройки для **Логистической регрессии** получены значения метрики _F1-score_ на: обучающем наборе 0.87, тестовом наборе 0.79."
      ]
    },
    {
      "cell_type": "markdown",
      "metadata": {
        "id": "krgEtfPjq66x"
      },
      "source": [
        "## 1.2. Создаем объект класса **случайный лес** (**RF**)"
      ]
    },
    {
      "cell_type": "code",
      "execution_count": null,
      "metadata": {
        "colab": {
          "base_uri": "https://localhost:8080/"
        },
        "id": "LwoEjGwWrBZ1",
        "outputId": "cbe2af73-a7c6-447c-a373-4e1617012a78"
      },
      "outputs": [
        {
          "name": "stdout",
          "output_type": "stream",
          "text": [
            "f1_score на обучающем наборе: 1.00\n",
            "f1_score на тестовом наборе: 0.81\n"
          ]
        }
      ],
      "source": [
        "#Создаем объект класса случайный лес\n",
        "rf = ensemble.RandomForestClassifier(random_state=42)\n",
        "# Обучаем модель\n",
        "rf.fit(X_train, y_train)\n",
        "\n",
        "# Выводим значения метрики\n",
        "#для тренировочных данных\n",
        "y_train_pred_rf = rf.predict(X_train)\n",
        "print('f1_score на обучающем наборе: {:.2f}'.format(metrics.f1_score(y_train, y_train_pred_rf)))\n",
        "#для тестовых данных\n",
        "y_test_pred_rf = rf.predict(X_test)\n",
        "print('f1_score на тестовом наборе: {:.2f}'.format(metrics.f1_score(y_test, y_test_pred_rf)))"
      ]
    },
    {
      "cell_type": "markdown",
      "metadata": {
        "id": "ScANh3bXslSQ"
      },
      "source": [
        "Без дополнительной настройки для **Случайного леса** получены значения метрики _F1-score_ на: обучающем наборе 1.0, тестовом наборе 0.81. Методом случайного леса метрика _F1-score_ на тестовом наборе несколько лучше, чем методом логистической регрессии 0.81 против 0.79."
      ]
    },
    {
      "cell_type": "markdown",
      "metadata": {
        "id": "bw4SwYrUtgan"
      },
      "source": [
        "# 2. Подбор гиперпараметров с помощью базовых методов оптимизации"
      ]
    },
    {
      "cell_type": "markdown",
      "metadata": {
        "id": "YUCHsJo0ZdBV"
      },
      "source": [
        "## 2.1. Подбор гиперпараметров для алгоритма **Логистической регрессии** методом **GridSearchCV (GSCV).**"
      ]
    },
    {
      "cell_type": "code",
      "execution_count": 1,
      "metadata": {
        "colab": {
          "base_uri": "https://localhost:8080/"
        },
        "id": "AJvFJZMktcDP",
        "outputId": "ec8f0e28-e989-4466-f54d-cbb3f2b4516f"
      },
      "outputs": [
        {
          "ename": "NameError",
          "evalue": "name 'np' is not defined",
          "output_type": "error",
          "traceback": [
            "\u001b[1;31m---------------------------------------------------------------------------\u001b[0m",
            "\u001b[1;31mNameError\u001b[0m                                 Traceback (most recent call last)",
            "Cell \u001b[1;32mIn[1], line 7\u001b[0m\n\u001b[0;32m      1\u001b[0m \u001b[38;5;28;01mfrom\u001b[39;00m \u001b[38;5;21;01msklearn\u001b[39;00m\u001b[38;5;21;01m.\u001b[39;00m\u001b[38;5;21;01mmodel_selection\u001b[39;00m \u001b[38;5;28;01mimport\u001b[39;00m GridSearchCV \u001b[38;5;66;03m# Импортируем библиотеку GridSearchCV\u001b[39;00m\n\u001b[0;32m      3\u001b[0m \u001b[38;5;66;03m# Создадим словарь искомых гиперпараметров\u001b[39;00m\n\u001b[0;32m      4\u001b[0m param_grid_lr \u001b[38;5;241m=\u001b[39m [\n\u001b[0;32m      5\u001b[0m               {\u001b[38;5;124m'\u001b[39m\u001b[38;5;124mpenalty\u001b[39m\u001b[38;5;124m'\u001b[39m: [\u001b[38;5;124m'\u001b[39m\u001b[38;5;124ml2\u001b[39m\u001b[38;5;124m'\u001b[39m, \u001b[38;5;28;01mNone\u001b[39;00m] , \u001b[38;5;66;03m# тип регуляризации\u001b[39;00m\n\u001b[0;32m      6\u001b[0m               \u001b[38;5;124m'\u001b[39m\u001b[38;5;124msolver\u001b[39m\u001b[38;5;124m'\u001b[39m: [\u001b[38;5;124m'\u001b[39m\u001b[38;5;124mlbfgs\u001b[39m\u001b[38;5;124m'\u001b[39m, \u001b[38;5;124m'\u001b[39m\u001b[38;5;124msag\u001b[39m\u001b[38;5;124m'\u001b[39m], \u001b[38;5;66;03m# алгоритм оптимизации\u001b[39;00m\n\u001b[1;32m----> 7\u001b[0m                \u001b[38;5;124m'\u001b[39m\u001b[38;5;124mC\u001b[39m\u001b[38;5;124m'\u001b[39m: \u001b[38;5;28mlist\u001b[39m(\u001b[43mnp\u001b[49m\u001b[38;5;241m.\u001b[39mlinspace(\u001b[38;5;241m0.01\u001b[39m, \u001b[38;5;241m1\u001b[39m, \u001b[38;5;241m10\u001b[39m, dtype\u001b[38;5;241m=\u001b[39m\u001b[38;5;28mfloat\u001b[39m))}, \u001b[38;5;66;03m# уровень силы регурялизации\u001b[39;00m\n\u001b[0;32m      8\u001b[0m               \n\u001b[0;32m      9\u001b[0m               {\u001b[38;5;124m'\u001b[39m\u001b[38;5;124mpenalty\u001b[39m\u001b[38;5;124m'\u001b[39m: [\u001b[38;5;124m'\u001b[39m\u001b[38;5;124ml1\u001b[39m\u001b[38;5;124m'\u001b[39m, \u001b[38;5;124m'\u001b[39m\u001b[38;5;124ml2\u001b[39m\u001b[38;5;124m'\u001b[39m] ,\n\u001b[0;32m     10\u001b[0m               \u001b[38;5;124m'\u001b[39m\u001b[38;5;124msolver\u001b[39m\u001b[38;5;124m'\u001b[39m: [\u001b[38;5;124m'\u001b[39m\u001b[38;5;124mliblinear\u001b[39m\u001b[38;5;124m'\u001b[39m, \u001b[38;5;124m'\u001b[39m\u001b[38;5;124msaga\u001b[39m\u001b[38;5;124m'\u001b[39m],\n\u001b[0;32m     11\u001b[0m                \u001b[38;5;124m'\u001b[39m\u001b[38;5;124mC\u001b[39m\u001b[38;5;124m'\u001b[39m: \u001b[38;5;28mlist\u001b[39m(np\u001b[38;5;241m.\u001b[39mlinspace(\u001b[38;5;241m0.01\u001b[39m, \u001b[38;5;241m1\u001b[39m, \u001b[38;5;241m10\u001b[39m, dtype\u001b[38;5;241m=\u001b[39m\u001b[38;5;28mfloat\u001b[39m))}\n\u001b[0;32m     12\u001b[0m                 ]\n\u001b[0;32m     13\u001b[0m \u001b[38;5;66;03m# Вызываем класс GridSearchCV и передаем модель LogisticRegression и прочие данные для расчетов,\u001b[39;00m\n\u001b[0;32m     14\u001b[0m grid_search_lr \u001b[38;5;241m=\u001b[39m GridSearchCV(\n\u001b[0;32m     15\u001b[0m     estimator\u001b[38;5;241m=\u001b[39mlinear_model\u001b[38;5;241m.\u001b[39mLogisticRegression(\n\u001b[0;32m     16\u001b[0m         random_state\u001b[38;5;241m=\u001b[39m\u001b[38;5;241m42\u001b[39m, \u001b[38;5;66;03m#генератор случайных чисел\u001b[39;00m\n\u001b[1;32m   (...)\u001b[0m\n\u001b[0;32m     21\u001b[0m     n_jobs \u001b[38;5;241m=\u001b[39m \u001b[38;5;241m-\u001b[39m\u001b[38;5;241m1\u001b[39m\n\u001b[0;32m     22\u001b[0m )  \n",
            "\u001b[1;31mNameError\u001b[0m: name 'np' is not defined"
          ]
        }
      ],
      "source": [
        "from sklearn.model_selection import GridSearchCV # Импортируем библиотеку GridSearchCV\n",
        "\n",
        "# Создадим словарь искомых гиперпараметров\n",
        "param_grid_lr = [\n",
        "              {'penalty': ['l2', None] , # тип регуляризации\n",
        "              'solver': ['lbfgs', 'sag'], # алгоритм оптимизации\n",
        "               'C': list(np.linspace(0.01, 1, 10, dtype=float))}, # уровень силы регурялизации\n",
        "              \n",
        "              {'penalty': ['l1', 'l2'] ,\n",
        "              'solver': ['liblinear', 'saga'],\n",
        "               'C': list(np.linspace(0.01, 1, 10, dtype=float))}\n",
        "                ]\n",
        "# Вызываем класс GridSearchCV и передаем модель LogisticRegression и прочие данные для расчетов,\n",
        "grid_search_lr = GridSearchCV(\n",
        "    estimator=linear_model.LogisticRegression(\n",
        "        random_state=42, #генератор случайных чисел\n",
        "        max_iter=50 #количество итераций на сходимость\n",
        "    ), \n",
        "    param_grid=param_grid_lr, \n",
        "    cv=5, \n",
        "    n_jobs = -1\n",
        ")  \n",
        "\n",
        "%%time\n",
        "\n",
        "grid_search_lr.fit(X_train, y_train) \n",
        "y_train_pred = grid_search_lr.predict(X_train)\n",
        "print('f1_score на обучающем наборе: {:.2f}'.format(metrics.f1_score(y_train, y_train_pred)))\n",
        "y_test_pred = grid_search_lr.predict(X_test)\n",
        "print('f1_score на тестовом наборе: {:.2f}'.format(metrics.f1_score(y_test, y_test_pred)))\n",
        "print(\"Наилучшие значения гиперпараметров: {}\".format(grid_search_lr.best_params_))"
      ]
    },
    {
      "cell_type": "markdown",
      "metadata": {
        "id": "85TWVm1jxlON"
      },
      "source": [
        "Для **Логистической регрессии** получены следующие значения _F1-score_ при подборе гиперпараметров методом GridSearchCV на: обучающем наборе - 0.86, тестовом наборе - 0.78. Улучшить метрику для логистической регрессии с помощью **GSCV** не удалось."
      ]
    },
    {
      "cell_type": "code",
      "execution_count": null,
      "metadata": {
        "colab": {
          "base_uri": "https://localhost:8080/",
          "height": 350
        },
        "id": "GULZGI6Rz7pV",
        "outputId": "bac956e9-2522-4491-b1cf-28d57e431031"
      },
      "outputs": [
        {
          "data": {
            "text/html": [
              "\n",
              "  <div id=\"df-078d03cc-519d-4388-a578-3b69da0aff43\">\n",
              "    <div class=\"colab-df-container\">\n",
              "      <div>\n",
              "<style scoped>\n",
              "    .dataframe tbody tr th:only-of-type {\n",
              "        vertical-align: middle;\n",
              "    }\n",
              "\n",
              "    .dataframe tbody tr th {\n",
              "        vertical-align: top;\n",
              "    }\n",
              "\n",
              "    .dataframe thead th {\n",
              "        text-align: right;\n",
              "    }\n",
              "</style>\n",
              "<table border=\"1\" class=\"dataframe\">\n",
              "  <thead>\n",
              "    <tr style=\"text-align: right;\">\n",
              "      <th></th>\n",
              "      <th>mean_fit_time</th>\n",
              "      <th>std_fit_time</th>\n",
              "      <th>mean_score_time</th>\n",
              "      <th>std_score_time</th>\n",
              "      <th>param_C</th>\n",
              "      <th>param_penalty</th>\n",
              "      <th>param_solver</th>\n",
              "      <th>params</th>\n",
              "      <th>split0_test_score</th>\n",
              "      <th>split1_test_score</th>\n",
              "      <th>split2_test_score</th>\n",
              "      <th>split3_test_score</th>\n",
              "      <th>split4_test_score</th>\n",
              "      <th>mean_test_score</th>\n",
              "      <th>std_test_score</th>\n",
              "      <th>rank_test_score</th>\n",
              "    </tr>\n",
              "  </thead>\n",
              "  <tbody>\n",
              "    <tr>\n",
              "      <th>0</th>\n",
              "      <td>0.774005</td>\n",
              "      <td>0.123558</td>\n",
              "      <td>0.030203</td>\n",
              "      <td>0.002719</td>\n",
              "      <td>0.01</td>\n",
              "      <td>l2</td>\n",
              "      <td>lbfgs</td>\n",
              "      <td>{'C': 0.01, 'penalty': 'l2', 'solver': 'lbfgs'}</td>\n",
              "      <td>0.736667</td>\n",
              "      <td>0.765000</td>\n",
              "      <td>0.780000</td>\n",
              "      <td>0.745</td>\n",
              "      <td>0.746667</td>\n",
              "      <td>0.754667</td>\n",
              "      <td>0.015684</td>\n",
              "      <td>21</td>\n",
              "    </tr>\n",
              "    <tr>\n",
              "      <th>1</th>\n",
              "      <td>5.297659</td>\n",
              "      <td>0.542160</td>\n",
              "      <td>0.041453</td>\n",
              "      <td>0.020640</td>\n",
              "      <td>0.01</td>\n",
              "      <td>l2</td>\n",
              "      <td>sag</td>\n",
              "      <td>{'C': 0.01, 'penalty': 'l2', 'solver': 'sag'}</td>\n",
              "      <td>0.738333</td>\n",
              "      <td>0.763333</td>\n",
              "      <td>0.781667</td>\n",
              "      <td>0.745</td>\n",
              "      <td>0.745000</td>\n",
              "      <td>0.754667</td>\n",
              "      <td>0.015861</td>\n",
              "      <td>21</td>\n",
              "    </tr>\n",
              "  </tbody>\n",
              "</table>\n",
              "</div>\n",
              "      <button class=\"colab-df-convert\" onclick=\"convertToInteractive('df-078d03cc-519d-4388-a578-3b69da0aff43')\"\n",
              "              title=\"Convert this dataframe to an interactive table.\"\n",
              "              style=\"display:none;\">\n",
              "        \n",
              "  <svg xmlns=\"http://www.w3.org/2000/svg\" height=\"24px\"viewBox=\"0 0 24 24\"\n",
              "       width=\"24px\">\n",
              "    <path d=\"M0 0h24v24H0V0z\" fill=\"none\"/>\n",
              "    <path d=\"M18.56 5.44l.94 2.06.94-2.06 2.06-.94-2.06-.94-.94-2.06-.94 2.06-2.06.94zm-11 1L8.5 8.5l.94-2.06 2.06-.94-2.06-.94L8.5 2.5l-.94 2.06-2.06.94zm10 10l.94 2.06.94-2.06 2.06-.94-2.06-.94-.94-2.06-.94 2.06-2.06.94z\"/><path d=\"M17.41 7.96l-1.37-1.37c-.4-.4-.92-.59-1.43-.59-.52 0-1.04.2-1.43.59L10.3 9.45l-7.72 7.72c-.78.78-.78 2.05 0 2.83L4 21.41c.39.39.9.59 1.41.59.51 0 1.02-.2 1.41-.59l7.78-7.78 2.81-2.81c.8-.78.8-2.07 0-2.86zM5.41 20L4 18.59l7.72-7.72 1.47 1.35L5.41 20z\"/>\n",
              "  </svg>\n",
              "      </button>\n",
              "      \n",
              "  <style>\n",
              "    .colab-df-container {\n",
              "      display:flex;\n",
              "      flex-wrap:wrap;\n",
              "      gap: 12px;\n",
              "    }\n",
              "\n",
              "    .colab-df-convert {\n",
              "      background-color: #E8F0FE;\n",
              "      border: none;\n",
              "      border-radius: 50%;\n",
              "      cursor: pointer;\n",
              "      display: none;\n",
              "      fill: #1967D2;\n",
              "      height: 32px;\n",
              "      padding: 0 0 0 0;\n",
              "      width: 32px;\n",
              "    }\n",
              "\n",
              "    .colab-df-convert:hover {\n",
              "      background-color: #E2EBFA;\n",
              "      box-shadow: 0px 1px 2px rgba(60, 64, 67, 0.3), 0px 1px 3px 1px rgba(60, 64, 67, 0.15);\n",
              "      fill: #174EA6;\n",
              "    }\n",
              "\n",
              "    [theme=dark] .colab-df-convert {\n",
              "      background-color: #3B4455;\n",
              "      fill: #D2E3FC;\n",
              "    }\n",
              "\n",
              "    [theme=dark] .colab-df-convert:hover {\n",
              "      background-color: #434B5C;\n",
              "      box-shadow: 0px 1px 3px 1px rgba(0, 0, 0, 0.15);\n",
              "      filter: drop-shadow(0px 1px 2px rgba(0, 0, 0, 0.3));\n",
              "      fill: #FFFFFF;\n",
              "    }\n",
              "  </style>\n",
              "\n",
              "      <script>\n",
              "        const buttonEl =\n",
              "          document.querySelector('#df-078d03cc-519d-4388-a578-3b69da0aff43 button.colab-df-convert');\n",
              "        buttonEl.style.display =\n",
              "          google.colab.kernel.accessAllowed ? 'block' : 'none';\n",
              "\n",
              "        async function convertToInteractive(key) {\n",
              "          const element = document.querySelector('#df-078d03cc-519d-4388-a578-3b69da0aff43');\n",
              "          const dataTable =\n",
              "            await google.colab.kernel.invokeFunction('convertToInteractive',\n",
              "                                                     [key], {});\n",
              "          if (!dataTable) return;\n",
              "\n",
              "          const docLinkHtml = 'Like what you see? Visit the ' +\n",
              "            '<a target=\"_blank\" href=https://colab.research.google.com/notebooks/data_table.ipynb>data table notebook</a>'\n",
              "            + ' to learn more about interactive tables.';\n",
              "          element.innerHTML = '';\n",
              "          dataTable['output_type'] = 'display_data';\n",
              "          await google.colab.output.renderOutput(dataTable, element);\n",
              "          const docLink = document.createElement('div');\n",
              "          docLink.innerHTML = docLinkHtml;\n",
              "          element.appendChild(docLink);\n",
              "        }\n",
              "      </script>\n",
              "    </div>\n",
              "  </div>\n",
              "  "
            ],
            "text/plain": [
              "   mean_fit_time  std_fit_time  mean_score_time  std_score_time param_C  \\\n",
              "0       0.774005      0.123558         0.030203        0.002719    0.01   \n",
              "1       5.297659      0.542160         0.041453        0.020640    0.01   \n",
              "\n",
              "  param_penalty param_solver                                           params  \\\n",
              "0            l2        lbfgs  {'C': 0.01, 'penalty': 'l2', 'solver': 'lbfgs'}   \n",
              "1            l2          sag    {'C': 0.01, 'penalty': 'l2', 'solver': 'sag'}   \n",
              "\n",
              "   split0_test_score  split1_test_score  split2_test_score  split3_test_score  \\\n",
              "0           0.736667           0.765000           0.780000              0.745   \n",
              "1           0.738333           0.763333           0.781667              0.745   \n",
              "\n",
              "   split4_test_score  mean_test_score  std_test_score  rank_test_score  \n",
              "0           0.746667         0.754667        0.015684               21  \n",
              "1           0.745000         0.754667        0.015861               21  "
            ]
          },
          "execution_count": 26,
          "metadata": {},
          "output_type": "execute_result"
        }
      ],
      "source": [
        "# Взглянем на результаты кросс-валидации\n",
        "result_cv = pd.DataFrame(grid_search_lr.cv_results_)\n",
        "result_cv.head(2)"
      ]
    },
    {
      "cell_type": "code",
      "execution_count": null,
      "metadata": {
        "colab": {
          "base_uri": "https://localhost:8080/"
        },
        "id": "8n17h4It0p3z",
        "outputId": "318e6bbd-91a0-403e-db31-965c78159e2d"
      },
      "outputs": [
        {
          "data": {
            "text/plain": [
              "Index(['mean_fit_time', 'std_fit_time', 'mean_score_time', 'std_score_time',\n",
              "       'param_C', 'param_penalty', 'param_solver', 'params',\n",
              "       'split0_test_score', 'split1_test_score', 'split2_test_score',\n",
              "       'split3_test_score', 'split4_test_score', 'mean_test_score',\n",
              "       'std_test_score', 'rank_test_score'],\n",
              "      dtype='object')"
            ]
          },
          "execution_count": 27,
          "metadata": {},
          "output_type": "execute_result"
        }
      ],
      "source": [
        "result_cv.columns"
      ]
    },
    {
      "cell_type": "code",
      "execution_count": null,
      "metadata": {
        "colab": {
          "base_uri": "https://localhost:8080/",
          "height": 522
        },
        "id": "wZJ1MsQn0Rxh",
        "outputId": "6492bf6e-5970-4c9d-9c06-9487373f5470"
      },
      "outputs": [
        {
          "data": {
            "image/png": "[encoded data removed]",
            "text/plain": [
              "<Figure size 864x576 with 2 Axes>"
            ]
          },
          "metadata": {},
          "output_type": "display_data"
        }
      ],
      "source": [
        "# Отрисуем, как менялась точность при различных гиперпараметрах\n",
        "visual = pd.pivot_table(pd.DataFrame(grid_search_lr.cv_results_),\n",
        "                        values='mean_test_score', index='param_C',\n",
        "                        columns='param_solver')\n",
        "sns.heatmap(visual)\n",
        "plt.title('Тепловая карта зависимости метрики F1 от solver и С') # подпись графика\n",
        "sns.set(rc={'figure.figsize':(12, 8)}) #задаем размер графика"
      ]
    },
    {
      "cell_type": "markdown",
      "metadata": {
        "id": "Vg4WA9JH1Sg5"
      },
      "source": [
        "Видим, что слабая регуляризация С = 0,01 отрицательно влияет на метрику, поэтому есть смысл брать значения больше 0,05 и  алгоритмы оптимизации: _liblinear_, _sag_ и _saga_ возможно отработают лучше. К сожалению, не отработал алгоритм _lbfgs_ из-за превышения количества итераций, возможно есть смысл заменить его на другой алгоритм, т.к. по условиям задания увеличивать количество итераций нельзя."
      ]
    },
    {
      "cell_type": "markdown",
      "metadata": {
        "id": "EZ_Tkna7YLzm"
      },
      "source": [
        "## 2.2. Подбор гиперпараметров для алгоритма **Случайный лес** методом **GridSearchCV** (**GSCV**)"
      ]
    },
    {
      "cell_type": "code",
      "execution_count": null,
      "metadata": {
        "colab": {
          "base_uri": "https://localhost:8080/"
        },
        "id": "HkaYBqY_YCDJ",
        "outputId": "50282427-2914-478f-f10d-cee7c3662c85"
      },
      "outputs": [
        {
          "name": "stdout",
          "output_type": "stream",
          "text": [
            "CPU times: user 30.3 s, sys: 2.87 s, total: 33.2 s\n",
            "Wall time: 1h 39s\n",
            "f1_score на обучающем наборе: 0.99\n",
            "f1_score на тестовом наборе: 0.83\n",
            "Наилучшие значения гиперпараметров: {'max_depth': 20, 'min_samples_leaf': 2, 'n_estimators': 140}\n"
          ]
        }
      ],
      "source": [
        "# Создадим словарь искомых гиперпараметров\n",
        "param_grid_rf = {'n_estimators': list(range(80, 200, 10)),\n",
        "              'min_samples_leaf': list(range(2, 10, 1)),\n",
        "              'max_depth': list(np.linspace(20, 40, 5, dtype=int))\n",
        "              }\n",
        "            \n",
        "# Вызываем класс GridSearchCV и передаем модель RandomForestClassifier и прочие данные для расчетов,\n",
        "grid_search_rf = GridSearchCV(\n",
        "    estimator=ensemble.RandomForestClassifier(random_state=42), \n",
        "    param_grid=param_grid_rf, \n",
        "    cv=5, \n",
        "    n_jobs = -1\n",
        ")  \n",
        "\n",
        "%%time\n",
        "\n",
        "grid_search_rf.fit(X_train, y_train) \n",
        "y_train_pred = grid_search_rf.predict(X_train)\n",
        "print('f1_score на обучающем наборе: {:.2f}'.format(metrics.f1_score(y_train, y_train_pred)))\n",
        "y_test_pred = grid_search_rf.predict(X_test)\n",
        "print('f1_score на тестовом наборе: {:.2f}'.format(metrics.f1_score(y_test, y_test_pred)))\n",
        "print(\"Наилучшие значения гиперпараметров: {}\".format(grid_search_rf.best_params_))"
      ]
    },
    {
      "cell_type": "markdown",
      "metadata": {
        "id": "CtEYXMICnKgZ"
      },
      "source": [
        "Для **Случайного леса** получены следующие значения _F1-score_ при подборе гиперпараметров методом GridSearchCV на: обучающем наборе - 0.99, на тестовом наборе - 0.83. Удалось улучшить метрику случайный лес с помощью **GSCV** со 0.81 до 0.83."
      ]
    },
    {
      "cell_type": "markdown",
      "metadata": {
        "id": "j1k2GWwgn61r"
      },
      "source": [
        "## 2.3. Подбор гиперпараметров для алгоритма **Логистической регрессии** методом **RandomizedSearchCV** (**RSCV**)"
      ]
    },
    {
      "cell_type": "code",
      "execution_count": null,
      "metadata": {
        "colab": {
          "base_uri": "https://localhost:8080/"
        },
        "id": "kjrirlJFnxrd",
        "outputId": "7d45c083-757c-4c23-e8e1-497ec748f198"
      },
      "outputs": [
        {
          "name": "stdout",
          "output_type": "stream",
          "text": [
            "CPU times: user 4 µs, sys: 0 ns, total: 4 µs\n",
            "Wall time: 11.4 µs\n",
            "f1_score на обучающем наборе: 0.87\n",
            "f1_score на тестовом наборе: 0.79\n",
            "Наилучшие значения гиперпараметров: {'solver': 'liblinear', 'penalty': 'l2', 'C': 0.23}\n"
          ]
        }
      ],
      "source": [
        "from sklearn.model_selection import RandomizedSearchCV # импортируем RandomizedSearchCV\n",
        "\n",
        "# Создадим словарь искомых гиперпараметров\n",
        "param_distributions_lr = [\n",
        "              {'penalty': ['l2', None] , # тип регуляризации\n",
        "              'solver': ['lbfgs', 'sag'], # алгоритм оптимизации\n",
        "               'C': list(np.linspace(0.01, 1, 10, dtype=float))}, # уровень силы регурялизации\n",
        "              \n",
        "              {'penalty': ['l1', 'l2'] ,\n",
        "              'solver': ['liblinear', 'saga'],\n",
        "               'C': list(np.linspace(0.01, 1, 10, dtype=float))}\n",
        "                ]\n",
        "\n",
        "# Вызываем класс RandomizedSearchCV и передаем модель LogisticRegression и прочие данные для расчетов            \n",
        "random_search_lr = RandomizedSearchCV(\n",
        "    estimator=linear_model.LogisticRegression(random_state=42, max_iter=50), \n",
        "    param_distributions=param_distributions_lr, \n",
        "    cv=5, \n",
        "    n_iter = 10, \n",
        "    n_jobs = -1\n",
        "    )  \n",
        "\n",
        "%%time\n",
        "\n",
        "random_search_lr.fit(X_train, y_train) \n",
        "y_train_pred = random_search_lr.predict(X_train)\n",
        "print('f1_score на обучающем наборе: {:.2f}'.format(metrics.f1_score(y_train, y_train_pred)))\n",
        "y_test_pred = random_search_lr.predict(X_test)\n",
        "print('f1_score на тестовом наборе: {:.2f}'.format(metrics.f1_score(y_test, y_test_pred)))\n",
        "print(\"Наилучшие значения гиперпараметров: {}\".format(random_search_lr.best_params_))"
      ]
    },
    {
      "cell_type": "markdown",
      "metadata": {
        "id": "1fAFXZu1p-2k"
      },
      "source": [
        "Для **Логистической регрессии** получены следующие значения _F1-score_ при подборе гиперпараметров методом RandomizedSearchCV на: обучающем наборе - 0.87, тестовом наборе - 0.79. Улучшить метрику логистической регрессии с помощью **RSCV** не удалось."
      ]
    },
    {
      "cell_type": "markdown",
      "metadata": {
        "id": "Sj24iqttqZUJ"
      },
      "source": [
        "## 2.4. Подбор гиперпараметров для алгоритма **Случайный лес** методом **RandomizedSearchCV** (**RSCV**)"
      ]
    },
    {
      "cell_type": "code",
      "execution_count": null,
      "metadata": {
        "colab": {
          "base_uri": "https://localhost:8080/"
        },
        "id": "eKUPI8FDqta3",
        "outputId": "4bbd428d-8973-49d6-d875-c0a9814c3046"
      },
      "outputs": [
        {
          "name": "stdout",
          "output_type": "stream",
          "text": [
            "CPU times: user 6.78 s, sys: 401 ms, total: 7.18 s\n",
            "Wall time: 6min 32s\n",
            "f1_score на обучающем наборе: 0.99\n",
            "f1_score на тестовом наборе: 0.83\n",
            "Наилучшие значения гиперпараметров: {'n_estimators': 160, 'min_samples_leaf': 2, 'max_depth': 20}\n"
          ]
        }
      ],
      "source": [
        "# Создадим словарь искомых гиперпараметров\n",
        "param_distributions_rf = {'n_estimators': list(range(80, 200, 10)),\n",
        "              'min_samples_leaf': list(range(2, 10, 1)),\n",
        "              'max_depth': list(np.linspace(20, 40, 5, dtype=int))\n",
        "              }\n",
        "\n",
        "# Вызываем класс GridSearchCV и передаем модель RandomForestClassifier и прочие данные для расчетов,            \n",
        "random_search_rf = RandomizedSearchCV(\n",
        "    estimator=ensemble.RandomForestClassifier(random_state=42), \n",
        "    param_distributions=param_distributions_rf, \n",
        "    cv=5,\n",
        "    n_iter = 50, \n",
        "    n_jobs = -1\n",
        ")  \n",
        "\n",
        "%%time\n",
        "\n",
        "random_search_rf.fit(X_train, y_train) \n",
        "y_train_pred = random_search_rf.predict(X_train)\n",
        "print('f1_score на обучающем наборе: {:.2f}'.format(metrics.f1_score(y_train, y_train_pred)))\n",
        "y_test_pred = random_search_rf.predict(X_test)\n",
        "print('f1_score на тестовом наборе: {:.2f}'.format(metrics.f1_score(y_test, y_test_pred)))\n",
        "print(\"Наилучшие значения гиперпараметров: {}\".format(random_search_rf.best_params_))"
      ]
    },
    {
      "cell_type": "markdown",
      "metadata": {
        "id": "ItsoUKGQtaHo"
      },
      "source": [
        "Для **Случайного леса** получены следующие значения _F1-score_ при подборе гиперпараметров методом RandomizedSearchCV на: обучающем наборе - 0.99, тестовом наборе: 0.83. Улучшить метрику случайного леса с помощью **RSCV** не удалось."
      ]
    },
    {
      "cell_type": "markdown",
      "metadata": {
        "id": "9LoFuWu0v3EU"
      },
      "source": [
        "# 3. Подбор гиперпараметров с помощью продвинутых методов оптимизации"
      ]
    },
    {
      "cell_type": "markdown",
      "metadata": {
        "id": "yo8KLD_eZjfE"
      },
      "source": [
        "## 3.1. Подбор гиперпараметров для алгоритма **Логистическая регрессия** методом **Hyperopt**"
      ]
    },
    {
      "cell_type": "code",
      "execution_count": null,
      "metadata": {
        "colab": {
          "base_uri": "https://localhost:8080/"
        },
        "id": "EU481H9VwzsX",
        "outputId": "00b1aa95-54e6-47e8-c84e-7932b10f6d91"
      },
      "outputs": [
        {
          "name": "stdout",
          "output_type": "stream",
          "text": [
            "Looking in indexes: https://pypi.org/simple, https://us-python.pkg.dev/colab-wheels/public/simple/\n",
            "Requirement already satisfied: hyperopt in /usr/local/lib/python3.9/dist-packages (0.1.2)\n",
            "Requirement already satisfied: scipy in /usr/local/lib/python3.9/dist-packages (from hyperopt) (1.10.1)\n",
            "Requirement already satisfied: six in /usr/local/lib/python3.9/dist-packages (from hyperopt) (1.15.0)\n",
            "Requirement already satisfied: pymongo in /usr/local/lib/python3.9/dist-packages (from hyperopt) (4.3.3)\n",
            "Requirement already satisfied: numpy in /usr/local/lib/python3.9/dist-packages (from hyperopt) (1.22.4)\n",
            "Requirement already satisfied: networkx in /usr/local/lib/python3.9/dist-packages (from hyperopt) (3.0)\n",
            "Requirement already satisfied: future in /usr/local/lib/python3.9/dist-packages (from hyperopt) (0.16.0)\n",
            "Requirement already satisfied: tqdm in /usr/local/lib/python3.9/dist-packages (from hyperopt) (4.65.0)\n",
            "Requirement already satisfied: dnspython<3.0.0,>=1.16.0 in /usr/local/lib/python3.9/dist-packages (from pymongo->hyperopt) (2.3.0)\n"
          ]
        }
      ],
      "source": [
        "# Устанавливаем библиотеку\n",
        "%pip install hyperopt"
      ]
    },
    {
      "cell_type": "code",
      "execution_count": null,
      "metadata": {
        "colab": {
          "base_uri": "https://localhost:8080/"
        },
        "id": "Y1EnF43-wQEq",
        "outputId": "154052bb-8fef-411f-bbb3-e47a15b412d0"
      },
      "outputs": [
        {
          "name": "stdout",
          "output_type": "stream",
          "text": [
            "Версия Hyperopt : 0.2\n"
          ]
        }
      ],
      "source": [
        "#делаем импорт и выведем версию библиотеки\n",
        "from sklearn.model_selection import cross_val_score\n",
        "import hyperopt\n",
        "from hyperopt import hp, fmin, tpe, Trials\n",
        "# fmin - основная функция, она будет минимизировать наш функционал\n",
        "# tpe - алгоритм оптимизации\n",
        "# hp - включает набор методов для объявления пространства поиска гиперпараметров\n",
        "# trails - используется для логирования результатов\n",
        "\n",
        "print(\"Версия Hyperopt : {}\".format(hyperopt.__version__))"
      ]
    },
    {
      "cell_type": "code",
      "execution_count": null,
      "metadata": {
        "id": "Ig4A2_puxU94"
      },
      "outputs": [],
      "source": [
        "# зададим пространство поиска гиперпараметров\n",
        "space_lr= {\n",
        "          'penalty': hp.choice('penalty', ['l1', 'l2']),\n",
        "          'solver': hp.choice('solver', ['liblinear', 'saga']),\n",
        "          'C': hp.quniform('C', 0.1, 1, 0.1)\n",
        "          }"
      ]
    },
    {
      "cell_type": "code",
      "execution_count": null,
      "metadata": {
        "id": "p61wv9TLxedk"
      },
      "outputs": [],
      "source": [
        "# зафиксируем random_state\n",
        "random_state = 42\n",
        "def hyperopt_lr(params_lr, cv=5, X=X_train, y=y_train, random_state=random_state):\n",
        "    # функция получает комбинацию гиперпараметров в \"params\"\n",
        "    params_lr = {'penalty': (params_lr['penalty']), \n",
        "              'solver': (params_lr['solver']), \n",
        "              'C': float(params_lr['C'])\n",
        "              }\n",
        "  \n",
        "    # используем эту комбинацию для построения модели\n",
        "    model_lr_ho = linear_model.LogisticRegression(**params_lr, random_state=random_state, max_iter=50)\n",
        "\n",
        "    # обучаем модель\n",
        "    model_lr_ho.fit(X, y)\n",
        "    score = metrics.f1_score(y, model_lr_ho.predict(X))\n",
        "    \n",
        "    # метрику необходимо минимизировать, поэтому ставим знак минус\n",
        "    return -score"
      ]
    },
    {
      "cell_type": "code",
      "execution_count": null,
      "metadata": {
        "colab": {
          "base_uri": "https://localhost:8080/"
        },
        "id": "TsPbE84IxoDk",
        "outputId": "ec95ac6e-1daa-459c-ca78-9f2de89def9e"
      },
      "outputs": [
        {
          "name": "stdout",
          "output_type": "stream",
          "text": [
            "CPU times: user 3 µs, sys: 0 ns, total: 3 µs\n",
            "Wall time: 7.63 µs\n",
            "  2%|▏         | 1/50 [00:03<03:00,  3.68s/it, best loss: -0.8634978671541743]"
          ]
        },
        {
          "name": "stderr",
          "output_type": "stream",
          "text": [
            "/usr/local/lib/python3.9/dist-packages/sklearn/linear_model/_sag.py:350: ConvergenceWarning: The max_iter was reached which means the coef_ did not converge\n",
            "  warnings.warn(\n",
            "\n"
          ]
        },
        {
          "name": "stdout",
          "output_type": "stream",
          "text": [
            " 10%|█         | 5/50 [00:11<01:59,  2.65s/it, best loss: -0.8823709135349832]"
          ]
        },
        {
          "name": "stderr",
          "output_type": "stream",
          "text": [
            "/usr/local/lib/python3.9/dist-packages/sklearn/linear_model/_sag.py:350: ConvergenceWarning: The max_iter was reached which means the coef_ did not converge\n",
            "  warnings.warn(\n",
            "\n"
          ]
        },
        {
          "name": "stdout",
          "output_type": "stream",
          "text": [
            "\r 12%|█▏        | 6/50 [00:17<02:44,  3.74s/it, best loss: -0.8823709135349832]"
          ]
        },
        {
          "name": "stderr",
          "output_type": "stream",
          "text": [
            "/usr/local/lib/python3.9/dist-packages/sklearn/linear_model/_sag.py:350: ConvergenceWarning: The max_iter was reached which means the coef_ did not converge\n",
            "  warnings.warn(\n",
            "\n"
          ]
        },
        {
          "name": "stdout",
          "output_type": "stream",
          "text": [
            " 22%|██▏       | 11/50 [00:26<01:51,  2.87s/it, best loss: -0.8823709135349832]"
          ]
        },
        {
          "name": "stderr",
          "output_type": "stream",
          "text": [
            "/usr/local/lib/python3.9/dist-packages/sklearn/linear_model/_sag.py:350: ConvergenceWarning: The max_iter was reached which means the coef_ did not converge\n",
            "  warnings.warn(\n",
            "\n"
          ]
        },
        {
          "name": "stdout",
          "output_type": "stream",
          "text": [
            " 26%|██▌       | 13/50 [00:31<01:49,  2.96s/it, best loss: -0.8823709135349832]"
          ]
        },
        {
          "name": "stderr",
          "output_type": "stream",
          "text": [
            "/usr/local/lib/python3.9/dist-packages/sklearn/linear_model/_sag.py:350: ConvergenceWarning: The max_iter was reached which means the coef_ did not converge\n",
            "  warnings.warn(\n",
            "\n"
          ]
        },
        {
          "name": "stdout",
          "output_type": "stream",
          "text": [
            " 34%|███▍      | 17/50 [00:38<01:20,  2.44s/it, best loss: -0.8823709135349832]"
          ]
        },
        {
          "name": "stderr",
          "output_type": "stream",
          "text": [
            "/usr/local/lib/python3.9/dist-packages/sklearn/linear_model/_sag.py:350: ConvergenceWarning: The max_iter was reached which means the coef_ did not converge\n",
            "  warnings.warn(\n",
            "\n"
          ]
        },
        {
          "name": "stdout",
          "output_type": "stream",
          "text": [
            " 38%|███▊      | 19/50 [00:48<02:09,  4.18s/it, best loss: -0.8823709135349832]"
          ]
        },
        {
          "name": "stderr",
          "output_type": "stream",
          "text": [
            "/usr/local/lib/python3.9/dist-packages/sklearn/linear_model/_sag.py:350: ConvergenceWarning: The max_iter was reached which means the coef_ did not converge\n",
            "  warnings.warn(\n",
            "\n"
          ]
        },
        {
          "name": "stdout",
          "output_type": "stream",
          "text": [
            " 62%|██████▏   | 31/50 [01:00<00:38,  2.02s/it, best loss: -0.8856968215158926]"
          ]
        },
        {
          "name": "stderr",
          "output_type": "stream",
          "text": [
            "/usr/local/lib/python3.9/dist-packages/sklearn/linear_model/_sag.py:350: ConvergenceWarning: The max_iter was reached which means the coef_ did not converge\n",
            "  warnings.warn(\n",
            "\n"
          ]
        },
        {
          "name": "stdout",
          "output_type": "stream",
          "text": [
            " 70%|███████   | 35/50 [01:06<00:27,  1.83s/it, best loss: -0.8856968215158926]"
          ]
        },
        {
          "name": "stderr",
          "output_type": "stream",
          "text": [
            "/usr/local/lib/python3.9/dist-packages/sklearn/linear_model/_sag.py:350: ConvergenceWarning: The max_iter was reached which means the coef_ did not converge\n",
            "  warnings.warn(\n",
            "\n"
          ]
        },
        {
          "name": "stdout",
          "output_type": "stream",
          "text": [
            " 78%|███████▊  | 39/50 [01:13<00:26,  2.45s/it, best loss: -0.8856968215158926]"
          ]
        },
        {
          "name": "stderr",
          "output_type": "stream",
          "text": [
            "/usr/local/lib/python3.9/dist-packages/sklearn/linear_model/_sag.py:350: ConvergenceWarning: The max_iter was reached which means the coef_ did not converge\n",
            "  warnings.warn(\n",
            "\n"
          ]
        },
        {
          "name": "stdout",
          "output_type": "stream",
          "text": [
            " 84%|████████▍ | 42/50 [01:20<00:21,  2.73s/it, best loss: -0.8856968215158926]"
          ]
        },
        {
          "name": "stderr",
          "output_type": "stream",
          "text": [
            "/usr/local/lib/python3.9/dist-packages/sklearn/linear_model/_sag.py:350: ConvergenceWarning: The max_iter was reached which means the coef_ did not converge\n",
            "  warnings.warn(\n",
            "\n"
          ]
        },
        {
          "name": "stdout",
          "output_type": "stream",
          "text": [
            " 92%|█████████▏| 46/50 [01:29<00:12,  3.06s/it, best loss: -0.8856968215158926]"
          ]
        },
        {
          "name": "stderr",
          "output_type": "stream",
          "text": [
            "/usr/local/lib/python3.9/dist-packages/sklearn/linear_model/_sag.py:350: ConvergenceWarning: The max_iter was reached which means the coef_ did not converge\n",
            "  warnings.warn(\n",
            "\n"
          ]
        },
        {
          "name": "stdout",
          "output_type": "stream",
          "text": [
            " 98%|█████████▊| 49/50 [01:35<00:02,  2.77s/it, best loss: -0.8856968215158926]"
          ]
        },
        {
          "name": "stderr",
          "output_type": "stream",
          "text": [
            "/usr/local/lib/python3.9/dist-packages/sklearn/linear_model/_sag.py:350: ConvergenceWarning: The max_iter was reached which means the coef_ did not converge\n",
            "  warnings.warn(\n",
            "\n"
          ]
        },
        {
          "name": "stdout",
          "output_type": "stream",
          "text": [
            "100%|██████████| 50/50 [01:36<00:00,  1.93s/it, best loss: -0.8856968215158926]\n",
            "Наилучшие значения гиперпараметров {'C': 1.0, 'penalty': 1, 'solver': 0}\n"
          ]
        }
      ],
      "source": [
        "# начинаем подбор гиперпараметров\n",
        "trials = Trials() # используется для логирования результатов\n",
        "\n",
        "%%time\n",
        "\n",
        "best = fmin(\n",
        "          hyperopt_lr, # наша функция \n",
        "          space=space_lr, # пространство гиперпараметров\n",
        "          algo=tpe.suggest, # алгоритм оптимизации, установлен по умолчанию, задавать необязательно\n",
        "          max_evals=50, # максимальное количество итераций\n",
        "          trials=trials, # логирование результатов\n",
        "          rstate=np.random.RandomState(random_state) # фиксируем для повторяемости результата\n",
        "         )\n",
        "print(\"Наилучшие значения гиперпараметров {}\".format(best))"
      ]
    },
    {
      "cell_type": "code",
      "execution_count": null,
      "metadata": {
        "colab": {
          "base_uri": "https://localhost:8080/"
        },
        "id": "F8u0kFKocb9V",
        "outputId": "8e88afda-6c40-4aef-eca9-24ddf3b38a5b"
      },
      "outputs": [
        {
          "name": "stdout",
          "output_type": "stream",
          "text": [
            "f1_score на обучающем наборе: 0.89\n",
            "f1_score на тестовом наборе: 0.78\n"
          ]
        }
      ],
      "source": [
        "# Рассчитаем точность для тестовой выборки\n",
        "model_lr_ho = linear_model.LogisticRegression(\n",
        "    random_state=random_state, \n",
        "    C= best['C'], \n",
        "    penalty = 'l2', \n",
        "    solver = 'liblinear'\n",
        ")\n",
        "\n",
        "model_lr_ho.fit(X_train, y_train)\n",
        "y_train_pred = model_lr_ho.predict(X_train)\n",
        "print('f1_score на обучающем наборе: {:.2f}'.format(metrics.f1_score(y_train, y_train_pred)))\n",
        "y_test_pred = model_lr_ho.predict(X_test)\n",
        "print('f1_score на тестовом наборе: {:.2f}'.format(metrics.f1_score(y_test, y_test_pred)))"
      ]
    },
    {
      "cell_type": "markdown",
      "metadata": {
        "id": "yHCDBDQYflPu"
      },
      "source": [
        "Для **Логистической регрессии** получены следующие значения _F1-score_ при подборе гиперпараметров методом **Hyperopt** на: обучающем наборе - 0.89, тестовом наборе - 0.78. Улучшить метрику логистической регрессии с помощью **Hyperopt** не удалось."
      ]
    },
    {
      "cell_type": "markdown",
      "metadata": {
        "id": "jBpgkS7p4Iys"
      },
      "source": [
        "## 3.2. Подбор гиперпараметров для алгоритма **Случайный лес** методом **Hyperopt**"
      ]
    },
    {
      "cell_type": "code",
      "execution_count": null,
      "metadata": {
        "id": "8k0EQpZz4Sr_"
      },
      "outputs": [],
      "source": [
        "# Зададим пространство поиска гиперпараметров\n",
        "space_rf={'n_estimators': hp.quniform('n_estimators', 80, 200, 10),\n",
        "       'max_depth' : hp.quniform('max_depth', 20, 40, 5),\n",
        "       'min_samples_leaf': hp.quniform('min_samples_leaf', 2, 10, 1)\n",
        "      }"
      ]
    },
    {
      "cell_type": "code",
      "execution_count": null,
      "metadata": {
        "id": "iYFjpDTS4YuK"
      },
      "outputs": [],
      "source": [
        "# Зафиксируем random_state\n",
        "random_state = 42\n",
        "def hyperopt_rf(params, cv=5, X=X_train, y=y_train, random_state=random_state):\n",
        "    # Функция получает комбинацию гиперпараметров в \"params\"\n",
        "    params = {'n_estimators': int(params['n_estimators']), \n",
        "              'max_depth': int(params['max_depth']), \n",
        "             'min_samples_leaf': int(params['min_samples_leaf'])\n",
        "              }\n",
        "  \n",
        "    # Используем эту комбинацию для построения модели\n",
        "    model_rf = ensemble.RandomForestClassifier(**params, random_state=random_state)\n",
        "\n",
        "    # Обучаем модель\n",
        "    model_rf.fit(X, y)\n",
        "    score = metrics.f1_score(y, model_rf.predict(X))\n",
        "\n",
        "    # Метрику необходимо минимизировать, поэтому ставим знак минус\n",
        "    return -score"
      ]
    },
    {
      "cell_type": "code",
      "execution_count": null,
      "metadata": {
        "colab": {
          "base_uri": "https://localhost:8080/"
        },
        "id": "cXd1GkzV4hBg",
        "outputId": "1cded9ea-b8fa-46cf-8180-8d47eb93051f"
      },
      "outputs": [
        {
          "name": "stdout",
          "output_type": "stream",
          "text": [
            "100%|██████████| 50/50 [02:12<00:00,  2.64s/it, best loss: -0.9920294297976702]\n",
            "Наилучшие значения гиперпараметров {'max_depth': 25.0, 'min_samples_leaf': 2.0, 'n_estimators': 140.0}\n"
          ]
        }
      ],
      "source": [
        "# Начинаем подбор гиперпараметров\n",
        "trials = Trials() # используется для логирования результатов\n",
        "\n",
        "%%time\n",
        "\n",
        "best=fmin(hyperopt_rf, # наша функция \n",
        "          space=space_rf, # пространство гиперпараметров\n",
        "          algo=tpe.suggest, # алгоритм оптимизации, установлен по умолчанию, задавать необязательно\n",
        "          max_evals=50, # максимальное количество итераций\n",
        "          trials=trials, # логирование результатов\n",
        "          rstate=np.random.RandomState(random_state) # фиксируем для повторяемости результата\n",
        "         )\n",
        "print(\"Наилучшие значения гиперпараметров {}\".format(best))"
      ]
    },
    {
      "cell_type": "code",
      "execution_count": null,
      "metadata": {
        "colab": {
          "base_uri": "https://localhost:8080/"
        },
        "id": "X2G5sXqLhK1x",
        "outputId": "b536199a-efa6-4979-e0d0-91ddd507fe07"
      },
      "outputs": [
        {
          "name": "stdout",
          "output_type": "stream",
          "text": [
            "f1_score на обучающем наборе: 0.99\n",
            "f1_score на тестовом наборе: 0.82\n"
          ]
        }
      ],
      "source": [
        "# Рассчитаем точность для тестовой выборки\n",
        "model_rf = ensemble.RandomForestClassifier(\n",
        "    random_state=random_state, \n",
        "    n_estimators=int(best['n_estimators']),\n",
        "    max_depth=int(best['max_depth']),\n",
        "    min_samples_leaf=int(best['min_samples_leaf'])\n",
        ")\n",
        "\n",
        "model_rf.fit(X_train, y_train)\n",
        "y_train_pred = model_rf.predict(X_train)\n",
        "print('f1_score на обучающем наборе: {:.2f}'.format(metrics.f1_score(y_train, y_train_pred)))\n",
        "y_test_pred = model_rf.predict(X_test)\n",
        "print('f1_score на тестовом наборе: {:.2f}'.format(metrics.f1_score(y_test, y_test_pred)))"
      ]
    },
    {
      "cell_type": "markdown",
      "metadata": {
        "id": "PBFHUmodhgUP"
      },
      "source": [
        "Для **Случайного леса** получены следующие значения _F1-score_ при подборе гиперпараметров методом **Hyperopt** на: обучающем наборе - 0.99, тестовом наборе: 0.82. Улучшить метрику с помощью **Hyperopt** случайного леса не удалось."
      ]
    },
    {
      "cell_type": "markdown",
      "metadata": {
        "id": "uARb6DW6nAxz"
      },
      "source": [
        "## 3.3. Подбор гиперпараметров для алгоритма **Логистическая регрессия** методом **Optuna**"
      ]
    },
    {
      "cell_type": "code",
      "execution_count": null,
      "metadata": {
        "colab": {
          "base_uri": "https://localhost:8080/"
        },
        "id": "bbRTqnGPqDDn",
        "outputId": "cbd80548-abe0-47f1-c82a-2276369a62bd"
      },
      "outputs": [
        {
          "name": "stdout",
          "output_type": "stream",
          "text": [
            "Looking in indexes: https://pypi.org/simple, https://us-python.pkg.dev/colab-wheels/public/simple/\n",
            "Collecting optuna\n",
            "  Downloading optuna-3.1.0-py3-none-any.whl (365 kB)\n",
            "\u001b[2K     \u001b[90m━━━━━━━━━━━━━━━━━━━━━━━━━━━━━━━━━━━━━━━\u001b[0m \u001b[32m365.3/365.3 KB\u001b[0m \u001b[31m7.9 MB/s\u001b[0m eta \u001b[36m0:00:00\u001b[0m\n",
            "\u001b[?25hCollecting colorlog\n",
            "  Downloading colorlog-6.7.0-py2.py3-none-any.whl (11 kB)\n",
            "Requirement already satisfied: tqdm in /usr/local/lib/python3.9/dist-packages (from optuna) (4.65.0)\n",
            "Requirement already satisfied: PyYAML in /usr/local/lib/python3.9/dist-packages (from optuna) (6.0)\n",
            "Collecting cmaes>=0.9.1\n",
            "  Downloading cmaes-0.9.1-py3-none-any.whl (21 kB)\n",
            "Requirement already satisfied: numpy in /usr/local/lib/python3.9/dist-packages (from optuna) (1.22.4)\n",
            "Requirement already satisfied: sqlalchemy>=1.3.0 in /usr/local/lib/python3.9/dist-packages (from optuna) (1.4.46)\n",
            "Requirement already satisfied: packaging>=20.0 in /usr/local/lib/python3.9/dist-packages (from optuna) (23.0)\n",
            "Collecting alembic>=1.5.0\n",
            "  Downloading alembic-1.10.2-py3-none-any.whl (212 kB)\n",
            "\u001b[2K     \u001b[90m━━━━━━━━━━━━━━━━━━━━━━━━━━━━━━━━━━━━━━\u001b[0m \u001b[32m212.2/212.2 KB\u001b[0m \u001b[31m24.6 MB/s\u001b[0m eta \u001b[36m0:00:00\u001b[0m\n",
            "\u001b[?25hRequirement already satisfied: typing-extensions>=4 in /usr/local/lib/python3.9/dist-packages (from alembic>=1.5.0->optuna) (4.5.0)\n",
            "Collecting Mako\n",
            "  Downloading Mako-1.2.4-py3-none-any.whl (78 kB)\n",
            "\u001b[2K     \u001b[90m━━━━━━━━━━━━━━━━━━━━━━━━━━━━━━━━━━━━━━━━\u001b[0m \u001b[32m78.7/78.7 KB\u001b[0m \u001b[31m9.3 MB/s\u001b[0m eta \u001b[36m0:00:00\u001b[0m\n",
            "\u001b[?25hRequirement already satisfied: greenlet!=0.4.17 in /usr/local/lib/python3.9/dist-packages (from sqlalchemy>=1.3.0->optuna) (2.0.2)\n",
            "Requirement already satisfied: MarkupSafe>=0.9.2 in /usr/local/lib/python3.9/dist-packages (from Mako->alembic>=1.5.0->optuna) (2.1.2)\n",
            "Installing collected packages: Mako, colorlog, cmaes, alembic, optuna\n",
            "Successfully installed Mako-1.2.4 alembic-1.10.2 cmaes-0.9.1 colorlog-6.7.0 optuna-3.1.0\n"
          ]
        }
      ],
      "source": [
        "# Устанавливаем библиотеку\n",
        "%pip install optuna"
      ]
    },
    {
      "cell_type": "code",
      "execution_count": null,
      "metadata": {
        "colab": {
          "base_uri": "https://localhost:8080/"
        },
        "id": "1tg0wLzKp6TT",
        "outputId": "bc7909b2-e1e9-4a1a-b13c-517ffab34d62"
      },
      "outputs": [
        {
          "name": "stdout",
          "output_type": "stream",
          "text": [
            "Версия Optuna: 3.1.0\n"
          ]
        }
      ],
      "source": [
        "# Импортируем  библиотеку\n",
        "import optuna\n",
        "\n",
        "print(\"Версия Optuna: {}\".format(optuna.__version__))"
      ]
    },
    {
      "cell_type": "code",
      "execution_count": null,
      "metadata": {
        "id": "5tc755dRm7XV"
      },
      "outputs": [],
      "source": [
        "# Настроим оптимизацию гиперпараметров для алгоритма логистической регрессии.\n",
        "def optuna_lr(trial):\n",
        "  # Задаем пространства поиска гиперпараметров\n",
        "  param_lr_opt={'penalty': trial.suggest_categorical('penalty', ['l1', 'l2']), \n",
        "                'solver' : trial.suggest_categorical('solver', ['liblinear', 'saga']), \n",
        "                'C': trial.suggest_float('C', 0.1, 1, step = 0.1)\n",
        "              }\n",
        "  # Создаем модель\n",
        "  model_lr_opt = linear_model.LogisticRegression(**param_lr_opt, random_state=random_state, max_iter=50)\n",
        "  \n",
        "  # Обучаем модель\n",
        "  model_lr_opt.fit(X_train, y_train)\n",
        "  score = metrics.f1_score(y_train, model_lr_opt.predict(X_train))\n",
        "\n",
        "  return score"
      ]
    },
    {
      "cell_type": "code",
      "execution_count": null,
      "metadata": {
        "colab": {
          "base_uri": "https://localhost:8080/"
        },
        "id": "pegw1ZqDnbA-",
        "outputId": "14f03e2d-119d-4c40-d131-e0d4875c317d"
      },
      "outputs": [
        {
          "name": "stderr",
          "output_type": "stream",
          "text": [
            "\u001b[32m[I 2023-03-11 10:06:45,145]\u001b[0m A new study created in memory with name: LogisticRegression\u001b[0m\n",
            "\u001b[32m[I 2023-03-11 10:06:47,673]\u001b[0m Trial 0 finished with value: 0.8681553992046498 and parameters: {'penalty': 'l1', 'solver': 'liblinear', 'C': 1.0}. Best is trial 0 with value: 0.8681553992046498.\u001b[0m\n",
            "\u001b[32m[I 2023-03-11 10:06:48,362]\u001b[0m Trial 1 finished with value: 0.8023880597014925 and parameters: {'penalty': 'l1', 'solver': 'liblinear', 'C': 0.1}. Best is trial 0 with value: 0.8681553992046498.\u001b[0m\n",
            "\u001b[32m[I 2023-03-11 10:06:50,201]\u001b[0m Trial 2 finished with value: 0.8604580152671755 and parameters: {'penalty': 'l1', 'solver': 'liblinear', 'C': 0.8}. Best is trial 0 with value: 0.8681553992046498.\u001b[0m\n",
            "\u001b[32m[I 2023-03-11 10:06:51,339]\u001b[0m Trial 3 finished with value: 0.864567410577805 and parameters: {'penalty': 'l1', 'solver': 'liblinear', 'C': 0.9}. Best is trial 0 with value: 0.8681553992046498.\u001b[0m\n",
            "/usr/local/lib/python3.9/dist-packages/sklearn/linear_model/_sag.py:350: ConvergenceWarning: The max_iter was reached which means the coef_ did not converge\n",
            "  warnings.warn(\n",
            "\u001b[32m[I 2023-03-11 10:06:57,423]\u001b[0m Trial 4 finished with value: 0.8340888485947416 and parameters: {'penalty': 'l1', 'solver': 'saga', 'C': 0.4}. Best is trial 0 with value: 0.8681553992046498.\u001b[0m\n",
            "\u001b[32m[I 2023-03-11 10:06:58,191]\u001b[0m Trial 5 finished with value: 0.8813455657492353 and parameters: {'penalty': 'l2', 'solver': 'liblinear', 'C': 0.8}. Best is trial 5 with value: 0.8813455657492353.\u001b[0m\n",
            "/usr/local/lib/python3.9/dist-packages/sklearn/linear_model/_sag.py:350: ConvergenceWarning: The max_iter was reached which means the coef_ did not converge\n",
            "  warnings.warn(\n",
            "\u001b[32m[I 2023-03-11 10:07:02,324]\u001b[0m Trial 6 finished with value: 0.8633181126331811 and parameters: {'penalty': 'l2', 'solver': 'saga', 'C': 0.5}. Best is trial 5 with value: 0.8813455657492353.\u001b[0m\n",
            "/usr/local/lib/python3.9/dist-packages/sklearn/linear_model/_sag.py:350: ConvergenceWarning: The max_iter was reached which means the coef_ did not converge\n",
            "  warnings.warn(\n",
            "\u001b[32m[I 2023-03-11 10:07:06,226]\u001b[0m Trial 7 finished with value: 0.8629719853836785 and parameters: {'penalty': 'l2', 'solver': 'saga', 'C': 0.7000000000000001}. Best is trial 5 with value: 0.8813455657492353.\u001b[0m\n",
            "/usr/local/lib/python3.9/dist-packages/sklearn/linear_model/_sag.py:350: ConvergenceWarning: The max_iter was reached which means the coef_ did not converge\n",
            "  warnings.warn(\n",
            "\u001b[32m[I 2023-03-11 10:07:13,630]\u001b[0m Trial 8 finished with value: 0.8471589182619265 and parameters: {'penalty': 'l1', 'solver': 'saga', 'C': 0.8}. Best is trial 5 with value: 0.8813455657492353.\u001b[0m\n",
            "/usr/local/lib/python3.9/dist-packages/sklearn/linear_model/_sag.py:350: ConvergenceWarning: The max_iter was reached which means the coef_ did not converge\n",
            "  warnings.warn(\n",
            "\u001b[32m[I 2023-03-11 10:07:17,483]\u001b[0m Trial 9 finished with value: 0.8548828719196836 and parameters: {'penalty': 'l2', 'solver': 'saga', 'C': 0.2}. Best is trial 5 with value: 0.8813455657492353.\u001b[0m\n",
            "\u001b[32m[I 2023-03-11 10:07:17,990]\u001b[0m Trial 10 finished with value: 0.8756889161053277 and parameters: {'penalty': 'l2', 'solver': 'liblinear', 'C': 0.6}. Best is trial 5 with value: 0.8813455657492353.\u001b[0m\n",
            "\u001b[32m[I 2023-03-11 10:07:18,519]\u001b[0m Trial 11 finished with value: 0.8756889161053277 and parameters: {'penalty': 'l2', 'solver': 'liblinear', 'C': 0.6}. Best is trial 5 with value: 0.8813455657492353.\u001b[0m\n",
            "\u001b[32m[I 2023-03-11 10:07:19,039]\u001b[0m Trial 12 finished with value: 0.870602630773937 and parameters: {'penalty': 'l2', 'solver': 'liblinear', 'C': 0.4}. Best is trial 5 with value: 0.8813455657492353.\u001b[0m\n",
            "\u001b[32m[I 2023-03-11 10:07:19,564]\u001b[0m Trial 13 finished with value: 0.8756889161053277 and parameters: {'penalty': 'l2', 'solver': 'liblinear', 'C': 0.6}. Best is trial 5 with value: 0.8813455657492353.\u001b[0m\n",
            "\u001b[32m[I 2023-03-11 10:07:20,122]\u001b[0m Trial 14 finished with value: 0.8856968215158926 and parameters: {'penalty': 'l2', 'solver': 'liblinear', 'C': 1.0}. Best is trial 14 with value: 0.8856968215158926.\u001b[0m\n",
            "\u001b[32m[I 2023-03-11 10:07:20,702]\u001b[0m Trial 15 finished with value: 0.8856968215158926 and parameters: {'penalty': 'l2', 'solver': 'liblinear', 'C': 1.0}. Best is trial 14 with value: 0.8856968215158926.\u001b[0m\n",
            "\u001b[32m[I 2023-03-11 10:07:21,266]\u001b[0m Trial 16 finished with value: 0.8856968215158926 and parameters: {'penalty': 'l2', 'solver': 'liblinear', 'C': 1.0}. Best is trial 14 with value: 0.8856968215158926.\u001b[0m\n",
            "\u001b[32m[I 2023-03-11 10:07:21,838]\u001b[0m Trial 17 finished with value: 0.8856968215158926 and parameters: {'penalty': 'l2', 'solver': 'liblinear', 'C': 1.0}. Best is trial 14 with value: 0.8856968215158926.\u001b[0m\n",
            "\u001b[32m[I 2023-03-11 10:07:22,400]\u001b[0m Trial 18 finished with value: 0.8823709135349832 and parameters: {'penalty': 'l2', 'solver': 'liblinear', 'C': 0.9}. Best is trial 14 with value: 0.8856968215158926.\u001b[0m\n",
            "\u001b[32m[I 2023-03-11 10:07:22,973]\u001b[0m Trial 19 finished with value: 0.8823709135349832 and parameters: {'penalty': 'l2', 'solver': 'liblinear', 'C': 0.9}. Best is trial 14 with value: 0.8856968215158926.\u001b[0m\n",
            "\u001b[32m[I 2023-03-11 10:07:23,571]\u001b[0m Trial 20 finished with value: 0.8788249694002448 and parameters: {'penalty': 'l2', 'solver': 'liblinear', 'C': 0.7000000000000001}. Best is trial 14 with value: 0.8856968215158926.\u001b[0m\n",
            "\u001b[32m[I 2023-03-11 10:07:24,145]\u001b[0m Trial 21 finished with value: 0.8856968215158926 and parameters: {'penalty': 'l2', 'solver': 'liblinear', 'C': 1.0}. Best is trial 14 with value: 0.8856968215158926.\u001b[0m\n",
            "\u001b[32m[I 2023-03-11 10:07:24,908]\u001b[0m Trial 22 finished with value: 0.8856968215158926 and parameters: {'penalty': 'l2', 'solver': 'liblinear', 'C': 1.0}. Best is trial 14 with value: 0.8856968215158926.\u001b[0m\n",
            "\u001b[32m[I 2023-03-11 10:07:25,712]\u001b[0m Trial 23 finished with value: 0.8823709135349832 and parameters: {'penalty': 'l2', 'solver': 'liblinear', 'C': 0.9}. Best is trial 14 with value: 0.8856968215158926.\u001b[0m\n",
            "\u001b[32m[I 2023-03-11 10:07:26,551]\u001b[0m Trial 24 finished with value: 0.8856968215158926 and parameters: {'penalty': 'l2', 'solver': 'liblinear', 'C': 1.0}. Best is trial 14 with value: 0.8856968215158926.\u001b[0m\n",
            "\u001b[32m[I 2023-03-11 10:07:27,345]\u001b[0m Trial 25 finished with value: 0.8813455657492353 and parameters: {'penalty': 'l2', 'solver': 'liblinear', 'C': 0.8}. Best is trial 14 with value: 0.8856968215158926.\u001b[0m\n",
            "/usr/local/lib/python3.9/dist-packages/sklearn/linear_model/_sag.py:350: ConvergenceWarning: The max_iter was reached which means the coef_ did not converge\n",
            "  warnings.warn(\n",
            "\u001b[32m[I 2023-03-11 10:07:32,781]\u001b[0m Trial 26 finished with value: 0.8634978671541743 and parameters: {'penalty': 'l2', 'solver': 'saga', 'C': 0.9}. Best is trial 14 with value: 0.8856968215158926.\u001b[0m\n",
            "\u001b[32m[I 2023-03-11 10:07:33,565]\u001b[0m Trial 27 finished with value: 0.8788249694002448 and parameters: {'penalty': 'l2', 'solver': 'liblinear', 'C': 0.7000000000000001}. Best is trial 14 with value: 0.8856968215158926.\u001b[0m\n",
            "\u001b[32m[I 2023-03-11 10:07:34,355]\u001b[0m Trial 28 finished with value: 0.8856968215158926 and parameters: {'penalty': 'l2', 'solver': 'liblinear', 'C': 1.0}. Best is trial 14 with value: 0.8856968215158926.\u001b[0m\n",
            "\u001b[32m[I 2023-03-11 10:07:35,433]\u001b[0m Trial 29 finished with value: 0.8681553992046498 and parameters: {'penalty': 'l1', 'solver': 'liblinear', 'C': 1.0}. Best is trial 14 with value: 0.8856968215158926.\u001b[0m\n",
            "\u001b[32m[I 2023-03-11 10:07:35,999]\u001b[0m Trial 30 finished with value: 0.8823709135349832 and parameters: {'penalty': 'l2', 'solver': 'liblinear', 'C': 0.9}. Best is trial 14 with value: 0.8856968215158926.\u001b[0m\n",
            "\u001b[32m[I 2023-03-11 10:07:36,567]\u001b[0m Trial 31 finished with value: 0.8856968215158926 and parameters: {'penalty': 'l2', 'solver': 'liblinear', 'C': 1.0}. Best is trial 14 with value: 0.8856968215158926.\u001b[0m\n",
            "\u001b[32m[I 2023-03-11 10:07:37,150]\u001b[0m Trial 32 finished with value: 0.8856968215158926 and parameters: {'penalty': 'l2', 'solver': 'liblinear', 'C': 1.0}. Best is trial 14 with value: 0.8856968215158926.\u001b[0m\n",
            "\u001b[32m[I 2023-03-11 10:07:37,708]\u001b[0m Trial 33 finished with value: 0.8813455657492353 and parameters: {'penalty': 'l2', 'solver': 'liblinear', 'C': 0.8}. Best is trial 14 with value: 0.8856968215158926.\u001b[0m\n",
            "\u001b[32m[I 2023-03-11 10:07:38,522]\u001b[0m Trial 34 finished with value: 0.864567410577805 and parameters: {'penalty': 'l1', 'solver': 'liblinear', 'C': 0.9}. Best is trial 14 with value: 0.8856968215158926.\u001b[0m\n",
            "\u001b[32m[I 2023-03-11 10:07:39,563]\u001b[0m Trial 35 finished with value: 0.8681553992046498 and parameters: {'penalty': 'l1', 'solver': 'liblinear', 'C': 1.0}. Best is trial 14 with value: 0.8856968215158926.\u001b[0m\n",
            "\u001b[32m[I 2023-03-11 10:07:40,210]\u001b[0m Trial 36 finished with value: 0.8621951219512194 and parameters: {'penalty': 'l2', 'solver': 'liblinear', 'C': 0.2}. Best is trial 14 with value: 0.8856968215158926.\u001b[0m\n",
            "/usr/local/lib/python3.9/dist-packages/sklearn/linear_model/_sag.py:350: ConvergenceWarning: The max_iter was reached which means the coef_ did not converge\n",
            "  warnings.warn(\n",
            "\u001b[32m[I 2023-03-11 10:07:45,397]\u001b[0m Trial 37 finished with value: 0.8634978671541743 and parameters: {'penalty': 'l2', 'solver': 'saga', 'C': 0.9}. Best is trial 14 with value: 0.8856968215158926.\u001b[0m\n",
            "\u001b[32m[I 2023-03-11 10:07:46,074]\u001b[0m Trial 38 finished with value: 0.8604580152671755 and parameters: {'penalty': 'l1', 'solver': 'liblinear', 'C': 0.8}. Best is trial 14 with value: 0.8856968215158926.\u001b[0m\n",
            "\u001b[32m[I 2023-03-11 10:07:46,609]\u001b[0m Trial 39 finished with value: 0.870602630773937 and parameters: {'penalty': 'l2', 'solver': 'liblinear', 'C': 0.4}. Best is trial 14 with value: 0.8856968215158926.\u001b[0m\n",
            "/usr/local/lib/python3.9/dist-packages/sklearn/linear_model/_sag.py:350: ConvergenceWarning: The max_iter was reached which means the coef_ did not converge\n",
            "  warnings.warn(\n",
            "\u001b[32m[I 2023-03-11 10:07:50,293]\u001b[0m Trial 40 finished with value: 0.8629719853836785 and parameters: {'penalty': 'l2', 'solver': 'saga', 'C': 0.7000000000000001}. Best is trial 14 with value: 0.8856968215158926.\u001b[0m\n",
            "\u001b[32m[I 2023-03-11 10:07:50,864]\u001b[0m Trial 41 finished with value: 0.8856968215158926 and parameters: {'penalty': 'l2', 'solver': 'liblinear', 'C': 1.0}. Best is trial 14 with value: 0.8856968215158926.\u001b[0m\n",
            "\u001b[32m[I 2023-03-11 10:07:51,426]\u001b[0m Trial 42 finished with value: 0.8856968215158926 and parameters: {'penalty': 'l2', 'solver': 'liblinear', 'C': 1.0}. Best is trial 14 with value: 0.8856968215158926.\u001b[0m\n",
            "\u001b[32m[I 2023-03-11 10:07:51,976]\u001b[0m Trial 43 finished with value: 0.8823709135349832 and parameters: {'penalty': 'l2', 'solver': 'liblinear', 'C': 0.9}. Best is trial 14 with value: 0.8856968215158926.\u001b[0m\n",
            "\u001b[32m[I 2023-03-11 10:07:52,545]\u001b[0m Trial 44 finished with value: 0.8856968215158926 and parameters: {'penalty': 'l2', 'solver': 'liblinear', 'C': 1.0}. Best is trial 14 with value: 0.8856968215158926.\u001b[0m\n",
            "\u001b[32m[I 2023-03-11 10:07:53,116]\u001b[0m Trial 45 finished with value: 0.8813455657492353 and parameters: {'penalty': 'l2', 'solver': 'liblinear', 'C': 0.8}. Best is trial 14 with value: 0.8856968215158926.\u001b[0m\n",
            "/usr/local/lib/python3.9/dist-packages/sklearn/linear_model/_sag.py:350: ConvergenceWarning: The max_iter was reached which means the coef_ did not converge\n",
            "  warnings.warn(\n",
            "\u001b[32m[I 2023-03-11 10:08:00,275]\u001b[0m Trial 46 finished with value: 0.8507145028884159 and parameters: {'penalty': 'l1', 'solver': 'saga', 'C': 1.0}. Best is trial 14 with value: 0.8856968215158926.\u001b[0m\n",
            "\u001b[32m[I 2023-03-11 10:08:00,831]\u001b[0m Trial 47 finished with value: 0.8823709135349832 and parameters: {'penalty': 'l2', 'solver': 'liblinear', 'C': 0.9}. Best is trial 14 with value: 0.8856968215158926.\u001b[0m\n",
            "\u001b[32m[I 2023-03-11 10:08:01,241]\u001b[0m Trial 48 finished with value: 0.8489993935718616 and parameters: {'penalty': 'l2', 'solver': 'liblinear', 'C': 0.1}. Best is trial 14 with value: 0.8856968215158926.\u001b[0m\n",
            "\u001b[32m[I 2023-03-11 10:08:01,765]\u001b[0m Trial 49 finished with value: 0.8731617647058824 and parameters: {'penalty': 'l2', 'solver': 'liblinear', 'C': 0.5}. Best is trial 14 with value: 0.8856968215158926.\u001b[0m\n"
          ]
        }
      ],
      "source": [
        "%%time\n",
        "\n",
        "# Создаем объект исследования\n",
        "study_lr = optuna.create_study(study_name=\"LogisticRegression\", direction=\"maximize\")\n",
        "# Ищем лучшую комбинацию гиперпараметров n_trials раз\n",
        "study_lr.optimize(optuna_lr, n_trials=50)"
      ]
    },
    {
      "cell_type": "code",
      "execution_count": null,
      "metadata": {
        "colab": {
          "base_uri": "https://localhost:8080/"
        },
        "id": "eCXqhKeqrH2_",
        "outputId": "a472e472-58ea-449b-bdc9-ca0bf9660f8a"
      },
      "outputs": [
        {
          "name": "stdout",
          "output_type": "stream",
          "text": [
            "Наилучшие значения гиперпараметров {'penalty': 'l2', 'solver': 'liblinear', 'C': 1.0}\n",
            "f1_score на обучающем наборе: 0.89\n"
          ]
        }
      ],
      "source": [
        "# Выводим результаты на обучающей выборке\n",
        "print(\"Наилучшие значения гиперпараметров {}\".format(study_lr.best_params))\n",
        "print(\"f1_score на обучающем наборе: {:.2f}\".format(study_lr.best_value))"
      ]
    },
    {
      "cell_type": "code",
      "execution_count": null,
      "metadata": {
        "colab": {
          "base_uri": "https://localhost:8080/"
        },
        "id": "4ys9Mi_BrmXl",
        "outputId": "7ed763c7-6201-42af-a9ce-e8e256770d73"
      },
      "outputs": [
        {
          "name": "stdout",
          "output_type": "stream",
          "text": [
            "f1_score на тестовом наборе: 0.78\n"
          ]
        }
      ],
      "source": [
        "# Рассчитаем точность для тестовой выборки\n",
        "model_lr_opt = linear_model.LogisticRegression(**study_lr.best_params,random_state=random_state, )\n",
        "model_lr_opt.fit(X_train, y_train)\n",
        "y_train_pred = model_lr_opt.predict(X_train)\n",
        "y_test_pred = model_lr_opt.predict(X_test)\n",
        "print('f1_score на тестовом наборе: {:.2f}'.format(metrics.f1_score(y_test, y_test_pred)))"
      ]
    },
    {
      "cell_type": "markdown",
      "metadata": {
        "id": "ggGJF_CcDSFU"
      },
      "source": [
        "Для **Логистической регрессии** получены следующие значения _F1-score_ при подборе гиперпараметров методом **Optuna** на: обучающем наборе - 0.89, тестовом наборе - 0.78. Улучшить метрику логистической регрессии с помощью **Optuna** не удалось."
      ]
    },
    {
      "cell_type": "markdown",
      "metadata": {
        "id": "0fq-W2zmtqmY"
      },
      "source": [
        "## 3.4. Подбор гиперпараметров для алгоритма **Случайный лес** методом **Optuna**"
      ]
    },
    {
      "cell_type": "code",
      "execution_count": null,
      "metadata": {
        "id": "yh8cRZRXt103"
      },
      "outputs": [],
      "source": [
        "# Настроим оптимизацию гиперпараметров для алгоритма случайного леса.\n",
        "def optuna_rf(trial):\n",
        "  # задаем пространства поиска гиперпараметров\n",
        "  n_estimators = trial.suggest_int('n_estimators', 80, 200, 10)\n",
        "  max_depth = trial.suggest_int('max_depth', 20, 40, 5)\n",
        "  min_samples_leaf = trial.suggest_int('min_samples_leaf', 2, 10, 1)\n",
        "\n",
        "  # создаем модель\n",
        "  model_rf_opt = ensemble.RandomForestClassifier(n_estimators=n_estimators,\n",
        "                                          max_depth=max_depth,\n",
        "                                          min_samples_leaf=min_samples_leaf,\n",
        "                                          random_state=random_state)\n",
        "  # обучаем модель\n",
        "  model_rf_opt.fit(X_train, y_train)\n",
        "  score = metrics.f1_score(y_train, model_rf_opt.predict(X_train))\n",
        "\n",
        "  return score"
      ]
    },
    {
      "cell_type": "code",
      "execution_count": null,
      "metadata": {
        "colab": {
          "base_uri": "https://localhost:8080/"
        },
        "id": "6U2EqJdJuLPp",
        "outputId": "19cf264e-8f00-459d-810c-a442fe63cfed"
      },
      "outputs": [
        {
          "name": "stderr",
          "output_type": "stream",
          "text": [
            "\u001b[32m[I 2023-03-11 08:12:54,544]\u001b[0m A new study created in memory with name: RandomForestClassifier\u001b[0m\n",
            "\u001b[32m[I 2023-03-11 08:12:57,877]\u001b[0m Trial 0 finished with value: 0.9779546846295162 and parameters: {'n_estimators': 110, 'max_depth': 35, 'min_samples_leaf': 3}. Best is trial 0 with value: 0.9779546846295162.\u001b[0m\n",
            "\u001b[32m[I 2023-03-11 08:13:00,425]\u001b[0m Trial 1 finished with value: 0.9593644974029942 and parameters: {'n_estimators': 130, 'max_depth': 40, 'min_samples_leaf': 4}. Best is trial 0 with value: 0.9779546846295162.\u001b[0m\n",
            "\u001b[32m[I 2023-03-11 08:13:03,321]\u001b[0m Trial 2 finished with value: 0.9089798411728772 and parameters: {'n_estimators': 170, 'max_depth': 30, 'min_samples_leaf': 9}. Best is trial 0 with value: 0.9779546846295162.\u001b[0m\n",
            "\u001b[32m[I 2023-03-11 08:13:07,944]\u001b[0m Trial 3 finished with value: 0.928288068355203 and parameters: {'n_estimators': 190, 'max_depth': 20, 'min_samples_leaf': 7}. Best is trial 0 with value: 0.9779546846295162.\u001b[0m\n",
            "\u001b[32m[I 2023-03-11 08:13:10,722]\u001b[0m Trial 4 finished with value: 0.9456654456654457 and parameters: {'n_estimators': 120, 'max_depth': 20, 'min_samples_leaf': 5}. Best is trial 0 with value: 0.9779546846295162.\u001b[0m\n",
            "\u001b[32m[I 2023-03-11 08:13:12,737]\u001b[0m Trial 5 finished with value: 0.923640806353085 and parameters: {'n_estimators': 90, 'max_depth': 35, 'min_samples_leaf': 7}. Best is trial 0 with value: 0.9779546846295162.\u001b[0m\n",
            "\u001b[32m[I 2023-03-11 08:13:14,499]\u001b[0m Trial 6 finished with value: 0.9144254278728606 and parameters: {'n_estimators': 80, 'max_depth': 40, 'min_samples_leaf': 8}. Best is trial 0 with value: 0.9779546846295162.\u001b[0m\n",
            "\u001b[32m[I 2023-03-11 08:13:16,438]\u001b[0m Trial 7 finished with value: 0.9337423312883436 and parameters: {'n_estimators': 90, 'max_depth': 40, 'min_samples_leaf': 6}. Best is trial 0 with value: 0.9779546846295162.\u001b[0m\n",
            "\u001b[32m[I 2023-03-11 08:13:18,145]\u001b[0m Trial 8 finished with value: 0.991421568627451 and parameters: {'n_estimators': 80, 'max_depth': 35, 'min_samples_leaf': 2}. Best is trial 8 with value: 0.991421568627451.\u001b[0m\n",
            "\u001b[32m[I 2023-03-11 08:13:19,370]\u001b[0m Trial 9 finished with value: 0.9005812174977057 and parameters: {'n_estimators': 80, 'max_depth': 40, 'min_samples_leaf': 9}. Best is trial 8 with value: 0.991421568627451.\u001b[0m\n",
            "\u001b[32m[I 2023-03-11 08:13:23,786]\u001b[0m Trial 10 finished with value: 0.9920343137254902 and parameters: {'n_estimators': 160, 'max_depth': 30, 'min_samples_leaf': 2}. Best is trial 10 with value: 0.9920343137254902.\u001b[0m\n",
            "\u001b[32m[I 2023-03-11 08:13:31,694]\u001b[0m Trial 11 finished with value: 0.9920343137254902 and parameters: {'n_estimators': 160, 'max_depth': 30, 'min_samples_leaf': 2}. Best is trial 10 with value: 0.9920343137254902.\u001b[0m\n",
            "\u001b[32m[I 2023-03-11 08:13:35,222]\u001b[0m Trial 12 finished with value: 0.9920343137254902 and parameters: {'n_estimators': 160, 'max_depth': 25, 'min_samples_leaf': 2}. Best is trial 10 with value: 0.9920343137254902.\u001b[0m\n",
            "\u001b[32m[I 2023-03-11 08:13:39,147]\u001b[0m Trial 13 finished with value: 0.9571603427172583 and parameters: {'n_estimators': 150, 'max_depth': 30, 'min_samples_leaf': 4}. Best is trial 10 with value: 0.9920343137254902.\u001b[0m\n",
            "\u001b[32m[I 2023-03-11 08:13:43,591]\u001b[0m Trial 14 finished with value: 0.9926470588235294 and parameters: {'n_estimators': 200, 'max_depth': 25, 'min_samples_leaf': 2}. Best is trial 14 with value: 0.9926470588235294.\u001b[0m\n",
            "\u001b[32m[I 2023-03-11 08:13:47,572]\u001b[0m Trial 15 finished with value: 0.9587029672682778 and parameters: {'n_estimators': 200, 'max_depth': 25, 'min_samples_leaf': 4}. Best is trial 14 with value: 0.9926470588235294.\u001b[0m\n",
            "\u001b[32m[I 2023-03-11 08:13:52,663]\u001b[0m Trial 16 finished with value: 0.9785670545009185 and parameters: {'n_estimators': 180, 'max_depth': 25, 'min_samples_leaf': 3}. Best is trial 14 with value: 0.9926470588235294.\u001b[0m\n",
            "\u001b[32m[I 2023-03-11 08:13:58,128]\u001b[0m Trial 17 finished with value: 0.97796817625459 and parameters: {'n_estimators': 200, 'max_depth': 25, 'min_samples_leaf': 3}. Best is trial 14 with value: 0.9926470588235294.\u001b[0m\n",
            "\u001b[32m[I 2023-03-11 08:14:00,885]\u001b[0m Trial 18 finished with value: 0.9435803598658127 and parameters: {'n_estimators': 140, 'max_depth': 20, 'min_samples_leaf': 5}. Best is trial 14 with value: 0.9926470588235294.\u001b[0m\n",
            "\u001b[32m[I 2023-03-11 08:14:05,811]\u001b[0m Trial 19 finished with value: 0.992651561543172 and parameters: {'n_estimators': 180, 'max_depth': 25, 'min_samples_leaf': 2}. Best is trial 19 with value: 0.992651561543172.\u001b[0m\n",
            "\u001b[32m[I 2023-03-11 08:14:09,009]\u001b[0m Trial 20 finished with value: 0.9019847328244275 and parameters: {'n_estimators': 180, 'max_depth': 25, 'min_samples_leaf': 10}. Best is trial 19 with value: 0.992651561543172.\u001b[0m\n",
            "\u001b[32m[I 2023-03-11 08:14:12,917]\u001b[0m Trial 21 finished with value: 0.9923430321592649 and parameters: {'n_estimators': 180, 'max_depth': 30, 'min_samples_leaf': 2}. Best is trial 19 with value: 0.992651561543172.\u001b[0m\n",
            "\u001b[32m[I 2023-03-11 08:14:16,986]\u001b[0m Trial 22 finished with value: 0.978267523722069 and parameters: {'n_estimators': 190, 'max_depth': 25, 'min_samples_leaf': 3}. Best is trial 19 with value: 0.992651561543172.\u001b[0m\n",
            "\u001b[32m[I 2023-03-11 08:14:22,133]\u001b[0m Trial 23 finished with value: 0.9923430321592649 and parameters: {'n_estimators': 180, 'max_depth': 30, 'min_samples_leaf': 2}. Best is trial 19 with value: 0.992651561543172.\u001b[0m\n",
            "\u001b[32m[I 2023-03-11 08:14:26,329]\u001b[0m Trial 24 finished with value: 0.9791411042944786 and parameters: {'n_estimators': 200, 'max_depth': 20, 'min_samples_leaf': 3}. Best is trial 19 with value: 0.992651561543172.\u001b[0m\n",
            "\u001b[32m[I 2023-03-11 08:14:29,464]\u001b[0m Trial 25 finished with value: 0.9466300701433363 and parameters: {'n_estimators': 170, 'max_depth': 30, 'min_samples_leaf': 5}. Best is trial 19 with value: 0.992651561543172.\u001b[0m\n",
            "\u001b[32m[I 2023-03-11 08:14:34,219]\u001b[0m Trial 26 finished with value: 0.9577723378212973 and parameters: {'n_estimators': 190, 'max_depth': 25, 'min_samples_leaf': 4}. Best is trial 19 with value: 0.992651561543172.\u001b[0m\n",
            "\u001b[32m[I 2023-03-11 08:14:39,375]\u001b[0m Trial 27 finished with value: 0.9932639314145744 and parameters: {'n_estimators': 170, 'max_depth': 35, 'min_samples_leaf': 2}. Best is trial 27 with value: 0.9932639314145744.\u001b[0m\n",
            "\u001b[32m[I 2023-03-11 08:14:43,076]\u001b[0m Trial 28 finished with value: 0.9776690119302539 and parameters: {'n_estimators': 170, 'max_depth': 35, 'min_samples_leaf': 3}. Best is trial 27 with value: 0.9932639314145744.\u001b[0m\n",
            "\u001b[32m[I 2023-03-11 08:14:47,388]\u001b[0m Trial 29 finished with value: 0.9571603427172583 and parameters: {'n_estimators': 150, 'max_depth': 35, 'min_samples_leaf': 4}. Best is trial 27 with value: 0.9932639314145744.\u001b[0m\n",
            "\u001b[32m[I 2023-03-11 08:14:51,495]\u001b[0m Trial 30 finished with value: 0.9348822989911342 and parameters: {'n_estimators': 190, 'max_depth': 20, 'min_samples_leaf': 6}. Best is trial 27 with value: 0.9932639314145744.\u001b[0m\n",
            "\u001b[32m[I 2023-03-11 08:14:56,197]\u001b[0m Trial 31 finished with value: 0.9923430321592649 and parameters: {'n_estimators': 180, 'max_depth': 30, 'min_samples_leaf': 2}. Best is trial 27 with value: 0.9932639314145744.\u001b[0m\n",
            "\u001b[32m[I 2023-03-11 08:15:01,187]\u001b[0m Trial 32 finished with value: 0.9926470588235294 and parameters: {'n_estimators': 200, 'max_depth': 35, 'min_samples_leaf': 2}. Best is trial 27 with value: 0.9932639314145744.\u001b[0m\n",
            "\u001b[32m[I 2023-03-11 08:15:06,094]\u001b[0m Trial 33 finished with value: 0.9788797061524334 and parameters: {'n_estimators': 200, 'max_depth': 35, 'min_samples_leaf': 3}. Best is trial 27 with value: 0.9932639314145744.\u001b[0m\n",
            "\u001b[32m[I 2023-03-11 08:15:10,415]\u001b[0m Trial 34 finished with value: 0.992651561543172 and parameters: {'n_estimators': 190, 'max_depth': 35, 'min_samples_leaf': 2}. Best is trial 27 with value: 0.9932639314145744.\u001b[0m\n",
            "\u001b[32m[I 2023-03-11 08:15:13,931]\u001b[0m Trial 35 finished with value: 0.9577464788732394 and parameters: {'n_estimators': 170, 'max_depth': 40, 'min_samples_leaf': 4}. Best is trial 27 with value: 0.9932639314145744.\u001b[0m\n",
            "\u001b[32m[I 2023-03-11 08:15:19,736]\u001b[0m Trial 36 finished with value: 0.9785801713586292 and parameters: {'n_estimators': 190, 'max_depth': 35, 'min_samples_leaf': 3}. Best is trial 27 with value: 0.9932639314145744.\u001b[0m\n",
            "\u001b[32m[I 2023-03-11 08:15:23,313]\u001b[0m Trial 37 finished with value: 0.9917203311867526 and parameters: {'n_estimators': 130, 'max_depth': 25, 'min_samples_leaf': 2}. Best is trial 27 with value: 0.9932639314145744.\u001b[0m\n",
            "\u001b[32m[I 2023-03-11 08:15:26,915]\u001b[0m Trial 38 finished with value: 0.9460858970453853 and parameters: {'n_estimators': 190, 'max_depth': 40, 'min_samples_leaf': 5}. Best is trial 27 with value: 0.9932639314145744.\u001b[0m\n",
            "\u001b[32m[I 2023-03-11 08:15:29,970]\u001b[0m Trial 39 finished with value: 0.9779546846295162 and parameters: {'n_estimators': 110, 'max_depth': 35, 'min_samples_leaf': 3}. Best is trial 27 with value: 0.9932639314145744.\u001b[0m\n",
            "\u001b[32m[I 2023-03-11 08:15:33,336]\u001b[0m Trial 40 finished with value: 0.9273060476481368 and parameters: {'n_estimators': 150, 'max_depth': 30, 'min_samples_leaf': 7}. Best is trial 27 with value: 0.9932639314145744.\u001b[0m\n",
            "\u001b[32m[I 2023-03-11 08:15:37,847]\u001b[0m Trial 41 finished with value: 0.9926470588235294 and parameters: {'n_estimators': 200, 'max_depth': 35, 'min_samples_leaf': 2}. Best is trial 27 with value: 0.9932639314145744.\u001b[0m\n",
            "\u001b[32m[I 2023-03-11 08:15:42,253]\u001b[0m Trial 42 finished with value: 0.992651561543172 and parameters: {'n_estimators': 190, 'max_depth': 35, 'min_samples_leaf': 2}. Best is trial 27 with value: 0.9932639314145744.\u001b[0m\n",
            "\u001b[32m[I 2023-03-11 08:15:47,478]\u001b[0m Trial 43 finished with value: 0.9923430321592649 and parameters: {'n_estimators': 180, 'max_depth': 40, 'min_samples_leaf': 2}. Best is trial 27 with value: 0.9932639314145744.\u001b[0m\n",
            "\u001b[32m[I 2023-03-11 08:15:51,632]\u001b[0m Trial 44 finished with value: 0.9785801713586292 and parameters: {'n_estimators': 190, 'max_depth': 35, 'min_samples_leaf': 3}. Best is trial 27 with value: 0.9932639314145744.\u001b[0m\n",
            "\u001b[32m[I 2023-03-11 08:15:55,558]\u001b[0m Trial 45 finished with value: 0.9932639314145744 and parameters: {'n_estimators': 170, 'max_depth': 40, 'min_samples_leaf': 2}. Best is trial 27 with value: 0.9932639314145744.\u001b[0m\n",
            "\u001b[32m[I 2023-03-11 08:16:00,066]\u001b[0m Trial 46 finished with value: 0.9920343137254902 and parameters: {'n_estimators': 160, 'max_depth': 40, 'min_samples_leaf': 2}. Best is trial 27 with value: 0.9932639314145744.\u001b[0m\n",
            "\u001b[32m[I 2023-03-11 08:16:04,327]\u001b[0m Trial 47 finished with value: 0.916156670746634 and parameters: {'n_estimators': 170, 'max_depth': 40, 'min_samples_leaf': 8}. Best is trial 27 with value: 0.9932639314145744.\u001b[0m\n",
            "\u001b[32m[I 2023-03-11 08:16:08,025]\u001b[0m Trial 48 finished with value: 0.9776690119302539 and parameters: {'n_estimators': 170, 'max_depth': 40, 'min_samples_leaf': 3}. Best is trial 27 with value: 0.9932639314145744.\u001b[0m\n",
            "\u001b[32m[I 2023-03-11 08:16:11,347]\u001b[0m Trial 49 finished with value: 0.9920343137254902 and parameters: {'n_estimators': 160, 'max_depth': 35, 'min_samples_leaf': 2}. Best is trial 27 with value: 0.9932639314145744.\u001b[0m\n"
          ]
        },
        {
          "name": "stdout",
          "output_type": "stream",
          "text": [
            "CPU times: user 3min 7s, sys: 1.67 s, total: 3min 8s\n",
            "Wall time: 3min 16s\n"
          ]
        }
      ],
      "source": [
        "%%time\n",
        "\n",
        "# Cоздаем объект исследования\n",
        "study_rf = optuna.create_study(study_name=\"RandomForestClassifier\", direction=\"maximize\")\n",
        "# Ищем лучшую комбинацию гиперпараметров n_trials раз\n",
        "study_rf.optimize(optuna_rf, n_trials=50)"
      ]
    },
    {
      "cell_type": "code",
      "execution_count": null,
      "metadata": {
        "colab": {
          "base_uri": "https://localhost:8080/"
        },
        "id": "xloRcWOXvlkP",
        "outputId": "01513003-b372-445e-f67e-6c34ee267419"
      },
      "outputs": [
        {
          "name": "stdout",
          "output_type": "stream",
          "text": [
            "Наилучшие значения гиперпараметров {'n_estimators': 170, 'max_depth': 35, 'min_samples_leaf': 2}\n",
            "f1_score на обучающем наборе: 0.99\n"
          ]
        }
      ],
      "source": [
        "# Выводим результаты на обучающей выборке\n",
        "print(\"Наилучшие значения гиперпараметров {}\".format(study_rf.best_params))\n",
        "print(\"f1_score на обучающем наборе: {:.2f}\".format(study_rf.best_value))"
      ]
    },
    {
      "cell_type": "code",
      "execution_count": null,
      "metadata": {
        "colab": {
          "base_uri": "https://localhost:8080/"
        },
        "id": "-zRPRHQ5vrEY",
        "outputId": "de29ce88-7c59-47fb-a5ea-a74b49520e2e"
      },
      "outputs": [
        {
          "name": "stdout",
          "output_type": "stream",
          "text": [
            "f1_score на тестовом наборе: 0.82\n"
          ]
        }
      ],
      "source": [
        "# Рассчитаем точность для тестовой выборки\n",
        "model_rf_opt = ensemble.RandomForestClassifier(**study_rf.best_params,random_state=random_state, )\n",
        "model_rf_opt.fit(X_train, y_train)\n",
        "y_train_pred = model_rf_opt.predict(X_train)\n",
        "y_test_pred = model_rf_opt.predict(X_test)\n",
        "print('f1_score на тестовом наборе: {:.2f}'.format(metrics.f1_score(y_test, y_test_pred)))"
      ]
    },
    {
      "cell_type": "markdown",
      "metadata": {
        "id": "oMPoAWDSCzgL"
      },
      "source": [
        "Для **Случайного леса** получены следующие значения _F1-score_ при подборе гиперпараметров методом **Optuna** на: обучающем наборе - 0.99, тестовом наборе: 0.82. Улучшить метрику случайного леса с помощью **Optuna** не удалось."
      ]
    },
    {
      "cell_type": "markdown",
      "metadata": {
        "id": "gsj4jn-KyBc0"
      },
      "source": [
        "# 4. Выводы"
      ]
    },
    {
      "cell_type": "markdown",
      "metadata": {
        "id": "oX4ljBLwB26-"
      },
      "source": [
        "Значения метрик практически не изменились, это значит, что мы не нашли комбинацию внешних параметров лучше, чем были найдены без подбора гиперпараметров. Исключение составляет метод случайного леса, где метрика улучшилась с 0.81 до 0.83."
      ]
    }
  ],
  "metadata": {
    "colab": {
      "provenance": []
    },
    "kernelspec": {
      "display_name": "Python 3.11.1 64-bit",
      "language": "python",
      "name": "python3"
    },
    "language_info": {
      "codemirror_mode": {
        "name": "ipython",
        "version": 3
      },
      "file_extension": ".py",
      "mimetype": "text/x-python",
      "name": "python",
      "nbconvert_exporter": "python",
      "pygments_lexer": "ipython3",
      "version": "3.11.1"
    },
    "orig_nbformat": 4,
    "vscode": {
      "interpreter": {
        "hash": "6beef5ba6e6066e2eca26c3238fb752a2b2f561695d75d02aa01cbdf48771d57"
      }
    }
  },
  "nbformat": 4,
  "nbformat_minor": 0
}
